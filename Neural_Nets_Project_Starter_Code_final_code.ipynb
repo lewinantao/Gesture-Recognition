{
 "cells": [
  {
   "cell_type": "markdown",
   "metadata": {},
   "source": [
    "# Gesture Recognition\n",
    "In this group project, you are going to build a 3D Conv model that will be able to predict the 5 gestures correctly. Please import the following libraries to get started."
   ]
  },
  {
   "cell_type": "code",
   "execution_count": 2,
   "metadata": {},
   "outputs": [],
   "source": [
    "import numpy as np\n",
    "import os\n",
    "from scipy.misc import imread, imresize\n",
    "# scipy should be of version 1.2.0 for imread package\n",
    "\n",
    "import datetime\n",
    "import os\n",
    "\n",
    "from skimage.transform import resize\n",
    "import matplotlib.pyplot as plt\n",
    "%matplotlib inline"
   ]
  },
  {
   "cell_type": "markdown",
   "metadata": {},
   "source": [
    "We set the random seed so that the results don't vary drastically."
   ]
  },
  {
   "cell_type": "code",
   "execution_count": 3,
   "metadata": {},
   "outputs": [
    {
     "name": "stderr",
     "output_type": "stream",
     "text": [
      "Using TensorFlow backend.\n"
     ]
    }
   ],
   "source": [
    "np.random.seed(30)\n",
    "import random as rn\n",
    "rn.seed(30)\n",
    "from keras import backend as K\n",
    "import tensorflow as tf\n",
    "tf.set_random_seed(30)\n",
    "#tf.random.set_seed(30)"
   ]
  },
  {
   "cell_type": "markdown",
   "metadata": {},
   "source": [
    "In this block, you read the folder names for training and validation. You also set the `batch_size` here. Note that you set the batch size in such a way that you are able to use the GPU in full capacity. You keep increasing the batch size until the machine throws an error."
   ]
  },
  {
   "cell_type": "code",
   "execution_count": 4,
   "metadata": {},
   "outputs": [],
   "source": [
    "train_doc = np.random.permutation(open('../train.csv').readlines())\n",
    "val_doc = np.random.permutation(open('../val.csv').readlines())\n",
    "batch_size = 15 #experiment with the batch size"
   ]
  },
  {
   "cell_type": "markdown",
   "metadata": {},
   "source": [
    "## Generator\n",
    "This is one of the most important part of the code. The overall structure of the generator has been given. In the generator, you are going to preprocess the images as you have images of 2 different dimensions as well as create a batch of video frames. You have to experiment with `img_idx`, `y`,`z` and normalization such that you get high accuracy."
   ]
  },
  {
   "cell_type": "code",
   "execution_count": 5,
   "metadata": {},
   "outputs": [],
   "source": [
    "def generator(source_path, folder_list, batch_size):\n",
    "    print( 'Source path = ', source_path, '; batch size =', batch_size)\n",
    "    img_idx = [x for x in range(0, 30,2)] #create a list of image numbers you want to use for a particular video\n",
    "    while True:\n",
    "        t = np.random.permutation(folder_list)\n",
    "        num_batches = int(len(t)/batch_size)  # calculate the number of batches\n",
    "        for batch in range(num_batches): # we iterate over the number of batches\n",
    "            x=len(img_idx)\n",
    "            y=120\n",
    "            z=120\n",
    "            batch_data = np.zeros((batch_size,x,y,z,3)) # x is the number of images you use for each video, (y,z) is the final size of the input images and 3 is the number of channels RGB\n",
    "            batch_labels = np.zeros((batch_size,5)) # batch_labels is the one hot representation of the output\n",
    "            cnt_img=0\n",
    "            for folder in range(batch_size): # iterate over the batch_size\n",
    "                imgs = os.listdir(source_path+'/'+ t[folder + (batch*batch_size)].split(';')[0]) # read all the images in the folder\n",
    "                cnt_img+=1\n",
    "                for idx,item in enumerate(img_idx): #  Iterate iver the frames/images of a folder to read them in\n",
    "                    image = imread(source_path+'/'+ t[folder + (batch*batch_size)].strip().split(';')[0]+'/'+imgs[item]).astype(np.float32)\n",
    "                    \n",
    "                    #crop the images and resize them. Note that the images are of 2 different shape \n",
    "                    #and the conv3D will throw error if the inputs in a batch have different shapes\n",
    "                    norm_image = image/255.0 # normalizing the image \n",
    "                    image_resized=resize(norm_image, (120,120), mode='reflect')\n",
    "                    \n",
    "                    \n",
    "                    \n",
    "                    batch_data[folder,idx,:,:,0] = (image_resized[:,:,0]) #normalise and feed in the image\n",
    "                    batch_data[folder,idx,:,:,1] = (image_resized[:,:,1]) #normalise and feed in the image\n",
    "                    batch_data[folder,idx,:,:,2] = (image_resized[:,:,2]) #normalise and feed in the image\n",
    "                    \n",
    "                batch_labels[folder, int(t[folder + (batch*batch_size)].strip().split(';')[2])] = 1\n",
    "            yield batch_data, batch_labels #you yield the batch_data and the batch_labels, remember what does yield do\n",
    "\n",
    "        \n",
    "        # write the code for the remaining data points which are left after full batches\n",
    "        cnt_img=0\n",
    "        batch_cover = num_batches*batch_size\n",
    "        rem = len(t) - batch_cover\n",
    "        if(len(t)!=batch_cover):\n",
    "            for folder in range(rem):\n",
    "                imgs = os.listdir(source_path+'/'+ t[folder + batch_cover].split(';')[0]) # read all the images in the folder\n",
    "                cnt_img+=1\n",
    "                for idx,item in enumerate(img_idx): #  Iterate iver the frames/images of a folder to read them in\n",
    "                    image = imread(source_path+'/'+ t[folder + batch_cover].strip().split(';')[0]+'/'+imgs[item]).astype(np.float32)\n",
    "                    \n",
    "                    #crop the images and resize them. Note that the images are of 2 different shape \n",
    "                    #and the conv3D will throw error if the inputs in a batch have different shapes\n",
    "                    norm_image = image/255.0 # normalizing the image \n",
    "                    image_resized=resize(norm_image, (120,120), mode='reflect')\n",
    "                    \n",
    "                    batch_data[folder,idx,:,:,0] = (image_resized[:,:,0]) #normalise and feed in the image\n",
    "                    batch_data[folder,idx,:,:,1] = (image_resized[:,:,1]) #normalise and feed in the image\n",
    "                    batch_data[folder,idx,:,:,2] = (image_resized[:,:,2]) #normalise and feed in the image\n",
    "                    \n",
    "                batch_labels[folder, int(t[folder + batch_size].strip().split(';')[2])] = 1\n",
    "            yield batch_data, batch_labels #you yield the batch_data and the batch_labels, remember what does yield do"
   ]
  },
  {
   "cell_type": "markdown",
   "metadata": {},
   "source": [
    "Note here that a video is represented above in the generator as (number of images, height, width, number of channels). Take this into consideration while creating the model architecture."
   ]
  },
  {
   "cell_type": "code",
   "execution_count": 6,
   "metadata": {},
   "outputs": [
    {
     "name": "stdout",
     "output_type": "stream",
     "text": [
      "# training sequences = 663\n",
      "# validation sequences = 100\n",
      "# epochs = 10\n"
     ]
    }
   ],
   "source": [
    "curr_dt_time = datetime.datetime.now()\n",
    "train_path = '../train'\n",
    "val_path = '../val'\n",
    "num_train_sequences = len(train_doc)\n",
    "print('# training sequences =', num_train_sequences)\n",
    "num_val_sequences = len(val_doc)\n",
    "print('# validation sequences =', num_val_sequences)\n",
    "num_epochs = 10# choose the number of epochs\n",
    "print ('# epochs =', num_epochs)"
   ]
  },
  {
   "cell_type": "markdown",
   "metadata": {},
   "source": [
    "## Model\n",
    "Here you make the model using different functionalities that Keras provides. Remember to use `Conv3D` and `MaxPooling3D` and not `Conv2D` and `Maxpooling2D` for a 3D convolution model. You would want to use `TimeDistributed` while building a Conv2D + RNN model. Also remember that the last layer is the softmax. Design the network in such a way that the model is able to give good accuracy on the least number of parameters so that it can fit in the memory of the webcam."
   ]
  },
  {
   "cell_type": "code",
   "execution_count": 7,
   "metadata": {},
   "outputs": [],
   "source": [
    "from keras.models import Sequential, Model\n",
    "from keras.layers import Dense, GRU, Flatten, TimeDistributed, Flatten, BatchNormalization, Activation, Dropout\n",
    "from keras.layers.convolutional import Conv3D, MaxPooling3D,Conv2D,MaxPooling2D\n",
    "from keras.callbacks import ModelCheckpoint, ReduceLROnPlateau\n",
    "from keras import optimizers\n",
    "from keras.regularizers import l2"
   ]
  },
  {
   "cell_type": "markdown",
   "metadata": {},
   "source": [
    "#### Model 1 : Conv2D layers + GRU Layer+ Adam optimiser + No dropout"
   ]
  },
  {
   "cell_type": "code",
   "execution_count": 87,
   "metadata": {},
   "outputs": [],
   "source": [
    "num_featuremaps = [16,32,64,128]\n",
    "num_denselayers = [64,32,5]\n",
    "num_classes = 5\n",
    "frames = 15\n",
    "\n",
    "\n",
    "# Input\n",
    "input_shape=(frames,120,120,3)\n",
    "\n",
    "model = Sequential()\n",
    "\n",
    "model.add(TimeDistributed(Conv2D(num_featuremaps[0], (3, 3), strides=(2, 2),activation='relu', padding='same'), input_shape=input_shape))\n",
    "model.add(TimeDistributed(BatchNormalization()))\n",
    "model.add(TimeDistributed(MaxPooling2D((2, 2), strides=(2, 2))))\n",
    "\n",
    "model.add(TimeDistributed(Conv2D(num_featuremaps[1], (3,3),padding='same', activation='relu')))\n",
    "model.add(TimeDistributed(BatchNormalization()))\n",
    "model.add(TimeDistributed(MaxPooling2D((2, 2), strides=(2, 2))))\n",
    "\n",
    "model.add(TimeDistributed(Conv2D(num_featuremaps[2], (3,3),padding='same', activation='relu')))\n",
    "model.add(TimeDistributed(BatchNormalization()))\n",
    "model.add(TimeDistributed(MaxPooling2D((2, 2), strides=(2, 2))))\n",
    "\n",
    "model.add(TimeDistributed(Conv2D(num_featuremaps[3], (2,2),padding='same', activation='relu')))\n",
    "model.add(TimeDistributed(BatchNormalization()))\n",
    "model.add(TimeDistributed(MaxPooling2D((2, 2), strides=(2, 2))))\n",
    "\n",
    "model.add(TimeDistributed(Flatten()))\n",
    "\n",
    "model.add(Dense(num_denselayers[0], activation='relu'))\n",
    "model.add(Dense(num_denselayers[1], activation='relu'))\n",
    "\n",
    "## using GRU as the RNN model\n",
    "model.add(GRU(64, return_sequences=False))\n",
    "\n",
    "# using Softmax as last layer\n",
    "model.add(Dense(num_classes, activation='softmax')) "
   ]
  },
  {
   "cell_type": "markdown",
   "metadata": {},
   "source": [
    "Now that you have written the model, the next step is to `compile` the model. When you print the `summary` of the model, you'll see the total number of parameters you have to train."
   ]
  },
  {
   "cell_type": "code",
   "execution_count": 88,
   "metadata": {
    "scrolled": true
   },
   "outputs": [
    {
     "name": "stdout",
     "output_type": "stream",
     "text": [
      "_________________________________________________________________\n",
      "Layer (type)                 Output Shape              Param #   \n",
      "=================================================================\n",
      "time_distributed_63 (TimeDis (None, 15, 60, 60, 16)    448       \n",
      "_________________________________________________________________\n",
      "time_distributed_64 (TimeDis (None, 15, 60, 60, 16)    64        \n",
      "_________________________________________________________________\n",
      "time_distributed_65 (TimeDis (None, 15, 30, 30, 16)    0         \n",
      "_________________________________________________________________\n",
      "time_distributed_66 (TimeDis (None, 15, 30, 30, 32)    4640      \n",
      "_________________________________________________________________\n",
      "time_distributed_67 (TimeDis (None, 15, 30, 30, 32)    128       \n",
      "_________________________________________________________________\n",
      "time_distributed_68 (TimeDis (None, 15, 15, 15, 32)    0         \n",
      "_________________________________________________________________\n",
      "time_distributed_69 (TimeDis (None, 15, 15, 15, 64)    18496     \n",
      "_________________________________________________________________\n",
      "time_distributed_70 (TimeDis (None, 15, 15, 15, 64)    256       \n",
      "_________________________________________________________________\n",
      "time_distributed_71 (TimeDis (None, 15, 7, 7, 64)      0         \n",
      "_________________________________________________________________\n",
      "time_distributed_72 (TimeDis (None, 15, 7, 7, 128)     32896     \n",
      "_________________________________________________________________\n",
      "time_distributed_73 (TimeDis (None, 15, 7, 7, 128)     512       \n",
      "_________________________________________________________________\n",
      "time_distributed_74 (TimeDis (None, 15, 3, 3, 128)     0         \n",
      "_________________________________________________________________\n",
      "time_distributed_75 (TimeDis (None, 15, 1152)          0         \n",
      "_________________________________________________________________\n",
      "dense_23 (Dense)             (None, 15, 64)            73792     \n",
      "_________________________________________________________________\n",
      "dense_24 (Dense)             (None, 15, 32)            2080      \n",
      "_________________________________________________________________\n",
      "gru_12 (GRU)                 (None, 64)                18624     \n",
      "_________________________________________________________________\n",
      "dense_25 (Dense)             (None, 5)                 325       \n",
      "=================================================================\n",
      "Total params: 152,261\n",
      "Trainable params: 151,781\n",
      "Non-trainable params: 480\n",
      "_________________________________________________________________\n",
      "None\n"
     ]
    }
   ],
   "source": [
    "from keras.optimizers import Adam\n",
    "optimiser = \"Adam\"#write your optimizer\n",
    "model.compile(optimizer=optimiser, loss='categorical_crossentropy', metrics=['categorical_accuracy'])\n",
    "\n",
    "# Model Summary\n",
    "print (model.summary())"
   ]
  },
  {
   "cell_type": "markdown",
   "metadata": {},
   "source": [
    "Let us create the `train_generator` and the `val_generator` which will be used in `.fit_generator`."
   ]
  },
  {
   "cell_type": "code",
   "execution_count": 89,
   "metadata": {},
   "outputs": [],
   "source": [
    "train_generator = generator(train_path, train_doc, batch_size)\n",
    "val_generator = generator(val_path, val_doc, batch_size)"
   ]
  },
  {
   "cell_type": "code",
   "execution_count": 90,
   "metadata": {},
   "outputs": [],
   "source": [
    "model_name = 'model_init' + '_' + str(curr_dt_time).replace(' ','').replace(':','_') + '/'\n",
    "    \n",
    "if not os.path.exists(model_name):\n",
    "    os.mkdir(model_name)\n",
    "        \n",
    "filepath = model_name + 'model-{epoch:05d}-{loss:.5f}-{categorical_accuracy:.5f}-{val_loss:.5f}-{val_categorical_accuracy:.5f}.h5'\n",
    "\n",
    "checkpoint = ModelCheckpoint(filepath, monitor='val_loss', verbose=1, save_best_only=False, save_weights_only=False, mode='auto', period=1)\n",
    "\n",
    "LR = ReduceLROnPlateau(monitor='val_loss', factor=0.01, patience=5, cooldown=4, verbose=1,mode='auto',min_delta=0.0001)  # write the REducelronplateau code here\n",
    "callbacks_list = [checkpoint, LR]"
   ]
  },
  {
   "cell_type": "markdown",
   "metadata": {},
   "source": [
    "The `steps_per_epoch` and `validation_steps` are used by `fit_generator` to decide the number of next() calls it need to make."
   ]
  },
  {
   "cell_type": "code",
   "execution_count": 91,
   "metadata": {},
   "outputs": [],
   "source": [
    "if (num_train_sequences%batch_size) == 0:\n",
    "    steps_per_epoch = int(num_train_sequences/batch_size)\n",
    "else:\n",
    "    steps_per_epoch = (num_train_sequences//batch_size) + 1\n",
    "\n",
    "if (num_val_sequences%batch_size) == 0:\n",
    "    validation_steps = int(num_val_sequences/batch_size)\n",
    "else:\n",
    "    validation_steps = (num_val_sequences//batch_size) + 1"
   ]
  },
  {
   "cell_type": "markdown",
   "metadata": {},
   "source": [
    "Let us now fit the model. This will start training the model and with the help of the checkpoints, you'll be able to save the model at the end of each epoch."
   ]
  },
  {
   "cell_type": "code",
   "execution_count": 92,
   "metadata": {},
   "outputs": [
    {
     "name": "stdout",
     "output_type": "stream",
     "text": [
      "Source path =  ../val ; batch size = 15\n",
      "Source path =  ../train ; batch size =Epoch 1/10\n",
      " 15\n"
     ]
    },
    {
     "name": "stderr",
     "output_type": "stream",
     "text": [
      "/mnt/disks/user/anaconda3/lib/python3.6/site-packages/ipykernel_launcher.py:18: DeprecationWarning: `imread` is deprecated!\n",
      "`imread` is deprecated in SciPy 1.0.0, and will be removed in 1.2.0.\n",
      "Use ``imageio.imread`` instead.\n",
      "/mnt/disks/user/anaconda3/lib/python3.6/site-packages/skimage/transform/_warps.py:110: UserWarning: Anti-aliasing will be enabled by default in skimage 0.15 to avoid aliasing artifacts when down-sampling images.\n",
      "  warn(\"Anti-aliasing will be enabled by default in skimage 0.15 to \"\n",
      "/mnt/disks/user/anaconda3/lib/python3.6/site-packages/ipykernel_launcher.py:44: DeprecationWarning: `imread` is deprecated!\n",
      "`imread` is deprecated in SciPy 1.0.0, and will be removed in 1.2.0.\n",
      "Use ``imageio.imread`` instead.\n"
     ]
    },
    {
     "name": "stdout",
     "output_type": "stream",
     "text": [
      "45/45 [==============================] - 86s 2s/step - loss: 1.3120 - categorical_accuracy: 0.4474 - val_loss: 1.7706 - val_categorical_accuracy: 0.4000\n",
      "\n",
      "Epoch 00001: saving model to model_init_2020-11-0819_31_38.766386/model-00001-1.31201-0.44741-1.77059-0.40000.h5\n",
      "Epoch 2/10\n",
      "45/45 [==============================] - 52s 1s/step - loss: 0.8223 - categorical_accuracy: 0.6933 - val_loss: 2.2743 - val_categorical_accuracy: 0.4952\n",
      "\n",
      "Epoch 00002: saving model to model_init_2020-11-0819_31_38.766386/model-00002-0.82229-0.69333-2.27431-0.49524.h5\n",
      "Epoch 3/10\n",
      "45/45 [==============================] - 57s 1s/step - loss: 0.6421 - categorical_accuracy: 0.7570 - val_loss: 1.6559 - val_categorical_accuracy: 0.5524\n",
      "\n",
      "Epoch 00003: saving model to model_init_2020-11-0819_31_38.766386/model-00003-0.64214-0.75704-1.65592-0.55238.h5\n",
      "Epoch 4/10\n",
      "45/45 [==============================] - 63s 1s/step - loss: 0.4504 - categorical_accuracy: 0.8696 - val_loss: 2.3561 - val_categorical_accuracy: 0.5619\n",
      "\n",
      "Epoch 00004: saving model to model_init_2020-11-0819_31_38.766386/model-00004-0.45040-0.86963-2.35611-0.56190.h5\n",
      "Epoch 5/10\n",
      "45/45 [==============================] - 61s 1s/step - loss: 0.2928 - categorical_accuracy: 0.9052 - val_loss: 1.6940 - val_categorical_accuracy: 0.6381\n",
      "\n",
      "Epoch 00005: saving model to model_init_2020-11-0819_31_38.766386/model-00005-0.29285-0.90519-1.69397-0.63810.h5\n",
      "Epoch 6/10\n",
      "45/45 [==============================] - 68s 2s/step - loss: 0.2920 - categorical_accuracy: 0.9067 - val_loss: 2.3572 - val_categorical_accuracy: 0.4857\n",
      "\n",
      "Epoch 00006: saving model to model_init_2020-11-0819_31_38.766386/model-00006-0.29198-0.90667-2.35722-0.48571.h5\n",
      "Epoch 7/10\n",
      "45/45 [==============================] - 63s 1s/step - loss: 0.2429 - categorical_accuracy: 0.9274 - val_loss: 2.3411 - val_categorical_accuracy: 0.4952\n",
      "\n",
      "Epoch 00007: saving model to model_init_2020-11-0819_31_38.766386/model-00007-0.24289-0.92741-2.34108-0.49524.h5\n",
      "Epoch 8/10\n",
      "45/45 [==============================] - 58s 1s/step - loss: 0.2824 - categorical_accuracy: 0.9215 - val_loss: 2.3297 - val_categorical_accuracy: 0.4857\n",
      "\n",
      "Epoch 00008: saving model to model_init_2020-11-0819_31_38.766386/model-00008-0.28242-0.92148-2.32974-0.48571.h5\n",
      "\n",
      "Epoch 00008: ReduceLROnPlateau reducing learning rate to 1.0000000474974514e-05.\n",
      "Epoch 9/10\n",
      "45/45 [==============================] - 48s 1s/step - loss: 0.1657 - categorical_accuracy: 0.9556 - val_loss: 1.8770 - val_categorical_accuracy: 0.6381\n",
      "\n",
      "Epoch 00009: saving model to model_init_2020-11-0819_31_38.766386/model-00009-0.16573-0.95556-1.87705-0.63810.h5\n",
      "Epoch 10/10\n",
      "45/45 [==============================] - 67s 1s/step - loss: 0.1172 - categorical_accuracy: 0.9778 - val_loss: 1.9681 - val_categorical_accuracy: 0.5714\n",
      "\n",
      "Epoch 00010: saving model to model_init_2020-11-0819_31_38.766386/model-00010-0.11718-0.97778-1.96810-0.57143.h5\n"
     ]
    }
   ],
   "source": [
    "trained_model= model.fit_generator(train_generator, steps_per_epoch=steps_per_epoch, epochs=num_epochs, verbose=1, \n",
    "                    callbacks=callbacks_list, validation_data=val_generator, \n",
    "                    validation_steps=validation_steps, class_weight=None, workers=1, initial_epoch=0)"
   ]
  },
  {
   "cell_type": "code",
   "execution_count": 94,
   "metadata": {},
   "outputs": [
    {
     "data": {
      "image/png": "[encoded data removed]",
      "text/plain": [
       "<Figure size 432x288 with 1 Axes>"
      ]
     },
     "metadata": {},
     "output_type": "display_data"
    }
   ],
   "source": [
    "# summarize for model accuracy\n",
    "plt.plot(trained_model.history['categorical_accuracy'])\n",
    "plt.plot(trained_model.history['val_categorical_accuracy'])\n",
    "plt.title('model accuracy')\n",
    "plt.ylabel('accuracy')\n",
    "plt.xlabel('epoch')\n",
    "plt.legend(['train', 'test'], loc='upper left')\n",
    "plt.show()"
   ]
  },
  {
   "cell_type": "markdown",
   "metadata": {},
   "source": [
    "Observation\n",
    "- The accuracy on the training dataset in very high while the accuracy on the validation dataset is too less.\n",
    "- This is an indication of overfitting on the training dataset.\n"
   ]
  },
  {
   "cell_type": "markdown",
   "metadata": {},
   "source": [
    "#### Model 2 : Conv2D layers + GRU Layer +  Adam optimiser +  dropout"
   ]
  },
  {
   "cell_type": "code",
   "execution_count": 95,
   "metadata": {},
   "outputs": [],
   "source": [
    "num_featuremaps = [16,32,64,128]\n",
    "num_denselayers = [64,32,5]\n",
    "num_classes = 5\n",
    "frames = 15\n",
    "dropout = 0.25\n",
    "\n",
    "# Input\n",
    "input_shape=(frames,120,120,3)\n",
    "\n",
    "model = Sequential()\n",
    "\n",
    "model.add(TimeDistributed(Conv2D(num_featuremaps[0], (3, 3), strides=(2, 2),activation='relu', padding='same'), input_shape=input_shape))\n",
    "model.add(TimeDistributed(BatchNormalization()))\n",
    "model.add(TimeDistributed(MaxPooling2D((2, 2), strides=(2, 2))))\n",
    "model.add(Dropout(dropout))\n",
    "\n",
    "model.add(TimeDistributed(Conv2D(num_featuremaps[1], (3,3),padding='same', activation='relu')))\n",
    "model.add(TimeDistributed(BatchNormalization()))\n",
    "model.add(TimeDistributed(MaxPooling2D((2, 2), strides=(2, 2))))\n",
    "\n",
    "model.add(TimeDistributed(Conv2D(num_featuremaps[2], (3,3),padding='same', activation='relu')))\n",
    "model.add(TimeDistributed(BatchNormalization()))\n",
    "model.add(TimeDistributed(MaxPooling2D((2, 2), strides=(2, 2))))\n",
    "model.add(Dropout(dropout))\n",
    "\n",
    "model.add(TimeDistributed(Conv2D(num_featuremaps[3], (2,2),padding='same', activation='relu')))\n",
    "model.add(TimeDistributed(BatchNormalization()))\n",
    "model.add(TimeDistributed(MaxPooling2D((2, 2), strides=(2, 2))))\n",
    "\n",
    "model.add(TimeDistributed(Flatten()))\n",
    "\n",
    "model.add(Dense(num_denselayers[0], activation='relu'))\n",
    "model.add(Dense(num_denselayers[1], activation='relu'))\n",
    "model.add(Dropout(dropout))\n",
    "\n",
    "## using GRU as the RNN model\n",
    "model.add(GRU(64, return_sequences=False))\n",
    "model.add(Dropout(dropout))\n",
    "\n",
    "# using Softmax as last layer\n",
    "model.add(Dense(num_classes, activation='softmax')) "
   ]
  },
  {
   "cell_type": "code",
   "execution_count": 96,
   "metadata": {},
   "outputs": [
    {
     "name": "stdout",
     "output_type": "stream",
     "text": [
      "_________________________________________________________________\n",
      "Layer (type)                 Output Shape              Param #   \n",
      "=================================================================\n",
      "time_distributed_76 (TimeDis (None, 15, 60, 60, 16)    448       \n",
      "_________________________________________________________________\n",
      "time_distributed_77 (TimeDis (None, 15, 60, 60, 16)    64        \n",
      "_________________________________________________________________\n",
      "time_distributed_78 (TimeDis (None, 15, 30, 30, 16)    0         \n",
      "_________________________________________________________________\n",
      "dropout_21 (Dropout)         (None, 15, 30, 30, 16)    0         \n",
      "_________________________________________________________________\n",
      "time_distributed_79 (TimeDis (None, 15, 30, 30, 32)    4640      \n",
      "_________________________________________________________________\n",
      "time_distributed_80 (TimeDis (None, 15, 30, 30, 32)    128       \n",
      "_________________________________________________________________\n",
      "time_distributed_81 (TimeDis (None, 15, 15, 15, 32)    0         \n",
      "_________________________________________________________________\n",
      "time_distributed_82 (TimeDis (None, 15, 15, 15, 64)    18496     \n",
      "_________________________________________________________________\n",
      "time_distributed_83 (TimeDis (None, 15, 15, 15, 64)    256       \n",
      "_________________________________________________________________\n",
      "time_distributed_84 (TimeDis (None, 15, 7, 7, 64)      0         \n",
      "_________________________________________________________________\n",
      "dropout_22 (Dropout)         (None, 15, 7, 7, 64)      0         \n",
      "_________________________________________________________________\n",
      "time_distributed_85 (TimeDis (None, 15, 7, 7, 128)     32896     \n",
      "_________________________________________________________________\n",
      "time_distributed_86 (TimeDis (None, 15, 7, 7, 128)     512       \n",
      "_________________________________________________________________\n",
      "time_distributed_87 (TimeDis (None, 15, 3, 3, 128)     0         \n",
      "_________________________________________________________________\n",
      "time_distributed_88 (TimeDis (None, 15, 1152)          0         \n",
      "_________________________________________________________________\n",
      "dense_26 (Dense)             (None, 15, 64)            73792     \n",
      "_________________________________________________________________\n",
      "dense_27 (Dense)             (None, 15, 32)            2080      \n",
      "_________________________________________________________________\n",
      "dropout_23 (Dropout)         (None, 15, 32)            0         \n",
      "_________________________________________________________________\n",
      "gru_13 (GRU)                 (None, 64)                18624     \n",
      "_________________________________________________________________\n",
      "dropout_24 (Dropout)         (None, 64)                0         \n",
      "_________________________________________________________________\n",
      "dense_28 (Dense)             (None, 5)                 325       \n",
      "=================================================================\n",
      "Total params: 152,261\n",
      "Trainable params: 151,781\n",
      "Non-trainable params: 480\n",
      "_________________________________________________________________\n",
      "None\n"
     ]
    }
   ],
   "source": [
    "optimiser = \"Adam\"#write your optimizer\n",
    "model.compile(optimizer=optimiser, loss='categorical_crossentropy', metrics=['categorical_accuracy'])\n",
    "\n",
    "# Model Summary\n",
    "print (model.summary())"
   ]
  },
  {
   "cell_type": "code",
   "execution_count": 97,
   "metadata": {},
   "outputs": [],
   "source": [
    "train_generator = generator(train_path, train_doc, batch_size)\n",
    "val_generator = generator(val_path, val_doc, batch_size)"
   ]
  },
  {
   "cell_type": "code",
   "execution_count": 98,
   "metadata": {},
   "outputs": [],
   "source": [
    "model_name = 'model_init' + '_' + str(curr_dt_time).replace(' ','').replace(':','_') + '/'\n",
    "    \n",
    "if not os.path.exists(model_name):\n",
    "    os.mkdir(model_name)\n",
    "        \n",
    "filepath = model_name + 'model-{epoch:05d}-{loss:.5f}-{categorical_accuracy:.5f}-{val_loss:.5f}-{val_categorical_accuracy:.5f}.h5'\n",
    "\n",
    "checkpoint = ModelCheckpoint(filepath, monitor='val_loss', verbose=1, save_best_only=False, save_weights_only=False, mode='auto', period=1)\n",
    "\n",
    "LR = ReduceLROnPlateau(monitor='val_loss', factor=0.01, patience=5, cooldown=4, verbose=1,mode='auto',min_delta=0.0001)  # write the REducelronplateau code here\n",
    "callbacks_list = [checkpoint, LR]"
   ]
  },
  {
   "cell_type": "code",
   "execution_count": 99,
   "metadata": {},
   "outputs": [],
   "source": [
    "if (num_train_sequences%batch_size) == 0:\n",
    "    steps_per_epoch = int(num_train_sequences/batch_size)\n",
    "else:\n",
    "    steps_per_epoch = (num_train_sequences//batch_size) + 1\n",
    "\n",
    "if (num_val_sequences%batch_size) == 0:\n",
    "    validation_steps = int(num_val_sequences/batch_size)\n",
    "else:\n",
    "    validation_steps = (num_val_sequences//batch_size) + 1"
   ]
  },
  {
   "cell_type": "code",
   "execution_count": 100,
   "metadata": {},
   "outputs": [
    {
     "name": "stdout",
     "output_type": "stream",
     "text": [
      "Source path =  ../val ; batch size = 15\n",
      "Source path =  ../train ; batch size = 15\n",
      "Epoch 1/10\n"
     ]
    },
    {
     "name": "stderr",
     "output_type": "stream",
     "text": [
      "/mnt/disks/user/anaconda3/lib/python3.6/site-packages/ipykernel_launcher.py:18: DeprecationWarning: `imread` is deprecated!\n",
      "`imread` is deprecated in SciPy 1.0.0, and will be removed in 1.2.0.\n",
      "Use ``imageio.imread`` instead.\n",
      "/mnt/disks/user/anaconda3/lib/python3.6/site-packages/skimage/transform/_warps.py:110: UserWarning: Anti-aliasing will be enabled by default in skimage 0.15 to avoid aliasing artifacts when down-sampling images.\n",
      "  warn(\"Anti-aliasing will be enabled by default in skimage 0.15 to \"\n",
      "/mnt/disks/user/anaconda3/lib/python3.6/site-packages/ipykernel_launcher.py:44: DeprecationWarning: `imread` is deprecated!\n",
      "`imread` is deprecated in SciPy 1.0.0, and will be removed in 1.2.0.\n",
      "Use ``imageio.imread`` instead.\n"
     ]
    },
    {
     "name": "stdout",
     "output_type": "stream",
     "text": [
      "45/45 [==============================] - 76s 2s/step - loss: 1.5170 - categorical_accuracy: 0.3333 - val_loss: 1.7282 - val_categorical_accuracy: 0.4381\n",
      "\n",
      "Epoch 00001: saving model to model_init_2020-11-0819_31_38.766386/model-00001-1.51701-0.33333-1.72821-0.43810.h5\n",
      "Epoch 2/10\n",
      "45/45 [==============================] - 42s 929ms/step - loss: 1.2075 - categorical_accuracy: 0.4933 - val_loss: 1.8931 - val_categorical_accuracy: 0.4190\n",
      "\n",
      "Epoch 00002: saving model to model_init_2020-11-0819_31_38.766386/model-00002-1.20752-0.49333-1.89311-0.41905.h5\n",
      "Epoch 3/10\n",
      "45/45 [==============================] - 66s 1s/step - loss: 0.9993 - categorical_accuracy: 0.6133 - val_loss: 1.8363 - val_categorical_accuracy: 0.4857\n",
      "\n",
      "Epoch 00003: saving model to model_init_2020-11-0819_31_38.766386/model-00003-0.99933-0.61333-1.83626-0.48571.h5\n",
      "Epoch 4/10\n",
      "45/45 [==============================] - 57s 1s/step - loss: 0.8103 - categorical_accuracy: 0.6889 - val_loss: 1.3935 - val_categorical_accuracy: 0.6381\n",
      "\n",
      "Epoch 00004: saving model to model_init_2020-11-0819_31_38.766386/model-00004-0.81034-0.68889-1.39354-0.63810.h5\n",
      "Epoch 5/10\n",
      "45/45 [==============================] - 60s 1s/step - loss: 0.7145 - categorical_accuracy: 0.7156 - val_loss: 1.9915 - val_categorical_accuracy: 0.5333\n",
      "\n",
      "Epoch 00005: saving model to model_init_2020-11-0819_31_38.766386/model-00005-0.71449-0.71556-1.99153-0.53333.h5\n",
      "Epoch 6/10\n",
      "45/45 [==============================] - 67s 1s/step - loss: 0.5446 - categorical_accuracy: 0.8000 - val_loss: 2.6243 - val_categorical_accuracy: 0.4095\n",
      "\n",
      "Epoch 00006: saving model to model_init_2020-11-0819_31_38.766386/model-00006-0.54462-0.80000-2.62430-0.40952.h5\n",
      "Epoch 7/10\n",
      "45/45 [==============================] - 59s 1s/step - loss: 0.4258 - categorical_accuracy: 0.8563 - val_loss: 2.5387 - val_categorical_accuracy: 0.4762\n",
      "\n",
      "Epoch 00007: saving model to model_init_2020-11-0819_31_38.766386/model-00007-0.42576-0.85630-2.53871-0.47619.h5\n",
      "Epoch 8/10\n",
      "45/45 [==============================] - 58s 1s/step - loss: 0.3515 - categorical_accuracy: 0.8800 - val_loss: 2.1507 - val_categorical_accuracy: 0.6190\n",
      "\n",
      "Epoch 00008: saving model to model_init_2020-11-0819_31_38.766386/model-00008-0.35150-0.88000-2.15068-0.61905.h5\n",
      "Epoch 9/10\n",
      "45/45 [==============================] - 62s 1s/step - loss: 0.3122 - categorical_accuracy: 0.8993 - val_loss: 2.7125 - val_categorical_accuracy: 0.4667\n",
      "\n",
      "Epoch 00009: saving model to model_init_2020-11-0819_31_38.766386/model-00009-0.31223-0.89926-2.71250-0.46667.h5\n",
      "\n",
      "Epoch 00009: ReduceLROnPlateau reducing learning rate to 1.0000000474974514e-05.\n",
      "Epoch 10/10\n",
      "45/45 [==============================] - 52s 1s/step - loss: 0.2728 - categorical_accuracy: 0.9052 - val_loss: 2.5809 - val_categorical_accuracy: 0.5714\n",
      "\n",
      "Epoch 00010: saving model to model_init_2020-11-0819_31_38.766386/model-00010-0.27280-0.90519-2.58090-0.57143.h5\n"
     ]
    }
   ],
   "source": [
    "trained_model= model.fit_generator(train_generator, steps_per_epoch=steps_per_epoch, epochs=num_epochs, verbose=1, \n",
    "                    callbacks=callbacks_list, validation_data=val_generator, \n",
    "                    validation_steps=validation_steps, class_weight=None, workers=1, initial_epoch=0)"
   ]
  },
  {
   "cell_type": "code",
   "execution_count": 101,
   "metadata": {},
   "outputs": [
    {
     "data": {
      "image/png": "[encoded data removed]",
      "text/plain": [
       "<Figure size 432x288 with 1 Axes>"
      ]
     },
     "metadata": {},
     "output_type": "display_data"
    }
   ],
   "source": [
    "# summarize for model accuracy\n",
    "plt.plot(trained_model.history['categorical_accuracy'])\n",
    "plt.plot(trained_model.history['val_categorical_accuracy'])\n",
    "plt.title('model accuracy')\n",
    "plt.ylabel('accuracy')\n",
    "plt.xlabel('epoch')\n",
    "plt.legend(['train', 'test'], loc='upper left')\n",
    "plt.show()"
   ]
  },
  {
   "cell_type": "markdown",
   "metadata": {},
   "source": [
    "#### Model 3 : Conv2D layers + GRU Layer+  Adam optimiser + dropout + L2 regularization"
   ]
  },
  {
   "cell_type": "code",
   "execution_count": 102,
   "metadata": {},
   "outputs": [],
   "source": [
    "num_featuremaps = [16,32,64,128]\n",
    "num_denselayers = [64,32,5]\n",
    "num_classes = 5\n",
    "frames = 15\n",
    "dropout = 0.25\n",
    "\n",
    "# Input\n",
    "input_shape=(frames,120,120,3)\n",
    "\n",
    "model = Sequential()\n",
    "\n",
    "model.add(TimeDistributed(Conv2D(num_featuremaps[0], (3, 3), strides=(2, 2),activation='relu', padding='same'), input_shape=input_shape))\n",
    "model.add(TimeDistributed(BatchNormalization()))\n",
    "model.add(TimeDistributed(MaxPooling2D((2, 2), strides=(2, 2))))\n",
    "model.add(Dropout(dropout))\n",
    "\n",
    "model.add(TimeDistributed(Conv2D(num_featuremaps[1], (3,3),padding='same', activation='relu')))\n",
    "model.add(TimeDistributed(BatchNormalization()))\n",
    "model.add(TimeDistributed(MaxPooling2D((2, 2), strides=(2, 2))))\n",
    "\n",
    "model.add(TimeDistributed(Conv2D(num_featuremaps[2], (3,3),padding='same', activation='relu')))\n",
    "model.add(TimeDistributed(BatchNormalization()))\n",
    "model.add(TimeDistributed(MaxPooling2D((2, 2), strides=(2, 2))))\n",
    "model.add(Dropout(dropout))\n",
    "\n",
    "model.add(TimeDistributed(Conv2D(num_featuremaps[3], (2,2),padding='same', activation='relu')))\n",
    "model.add(TimeDistributed(BatchNormalization()))\n",
    "model.add(TimeDistributed(MaxPooling2D((2, 2), strides=(2, 2))))\n",
    "\n",
    "model.add(TimeDistributed(Flatten()))\n",
    "\n",
    "model.add(Dense(num_denselayers[0], activation='relu', kernel_regularizer=l2(0.01)))\n",
    "model.add(Dense(num_denselayers[1], activation='relu', kernel_regularizer=l2(0.01)))\n",
    "model.add(Dropout(dropout))\n",
    "\n",
    "## using GRU as the RNN model along with softmax as our last layer.\n",
    "model.add(GRU(64, return_sequences=False))\n",
    "model.add(Dropout(dropout))\n",
    "\n",
    "# using Softmax as last layer\n",
    "model.add(Dense(num_classes, activation='softmax')) "
   ]
  },
  {
   "cell_type": "code",
   "execution_count": 103,
   "metadata": {},
   "outputs": [
    {
     "name": "stdout",
     "output_type": "stream",
     "text": [
      "_________________________________________________________________\n",
      "Layer (type)                 Output Shape              Param #   \n",
      "=================================================================\n",
      "time_distributed_89 (TimeDis (None, 15, 60, 60, 16)    448       \n",
      "_________________________________________________________________\n",
      "time_distributed_90 (TimeDis (None, 15, 60, 60, 16)    64        \n",
      "_________________________________________________________________\n",
      "time_distributed_91 (TimeDis (None, 15, 30, 30, 16)    0         \n",
      "_________________________________________________________________\n",
      "dropout_25 (Dropout)         (None, 15, 30, 30, 16)    0         \n",
      "_________________________________________________________________\n",
      "time_distributed_92 (TimeDis (None, 15, 30, 30, 32)    4640      \n",
      "_________________________________________________________________\n",
      "time_distributed_93 (TimeDis (None, 15, 30, 30, 32)    128       \n",
      "_________________________________________________________________\n",
      "time_distributed_94 (TimeDis (None, 15, 15, 15, 32)    0         \n",
      "_________________________________________________________________\n",
      "time_distributed_95 (TimeDis (None, 15, 15, 15, 64)    18496     \n",
      "_________________________________________________________________\n",
      "time_distributed_96 (TimeDis (None, 15, 15, 15, 64)    256       \n",
      "_________________________________________________________________\n",
      "time_distributed_97 (TimeDis (None, 15, 7, 7, 64)      0         \n",
      "_________________________________________________________________\n",
      "dropout_26 (Dropout)         (None, 15, 7, 7, 64)      0         \n",
      "_________________________________________________________________\n",
      "time_distributed_98 (TimeDis (None, 15, 7, 7, 128)     32896     \n",
      "_________________________________________________________________\n",
      "time_distributed_99 (TimeDis (None, 15, 7, 7, 128)     512       \n",
      "_________________________________________________________________\n",
      "time_distributed_100 (TimeDi (None, 15, 3, 3, 128)     0         \n",
      "_________________________________________________________________\n",
      "time_distributed_101 (TimeDi (None, 15, 1152)          0         \n",
      "_________________________________________________________________\n",
      "dense_29 (Dense)             (None, 15, 64)            73792     \n",
      "_________________________________________________________________\n",
      "dense_30 (Dense)             (None, 15, 32)            2080      \n",
      "_________________________________________________________________\n",
      "dropout_27 (Dropout)         (None, 15, 32)            0         \n",
      "_________________________________________________________________\n",
      "gru_14 (GRU)                 (None, 64)                18624     \n",
      "_________________________________________________________________\n",
      "dropout_28 (Dropout)         (None, 64)                0         \n",
      "_________________________________________________________________\n",
      "dense_31 (Dense)             (None, 5)                 325       \n",
      "=================================================================\n",
      "Total params: 152,261\n",
      "Trainable params: 151,781\n",
      "Non-trainable params: 480\n",
      "_________________________________________________________________\n",
      "None\n"
     ]
    }
   ],
   "source": [
    "optimiser = \"Adam\"#write your optimizer\n",
    "model.compile(optimizer=optimiser, loss='categorical_crossentropy', metrics=['categorical_accuracy'])\n",
    "\n",
    "# Model Summary\n",
    "print (model.summary())"
   ]
  },
  {
   "cell_type": "code",
   "execution_count": 104,
   "metadata": {},
   "outputs": [],
   "source": [
    "train_generator = generator(train_path, train_doc, batch_size)\n",
    "val_generator = generator(val_path, val_doc, batch_size)"
   ]
  },
  {
   "cell_type": "code",
   "execution_count": 105,
   "metadata": {},
   "outputs": [],
   "source": [
    "model_name = 'model_init' + '_' + str(curr_dt_time).replace(' ','').replace(':','_') + '/'\n",
    "    \n",
    "if not os.path.exists(model_name):\n",
    "    os.mkdir(model_name)\n",
    "        \n",
    "filepath = model_name + 'model-{epoch:05d}-{loss:.5f}-{categorical_accuracy:.5f}-{val_loss:.5f}-{val_categorical_accuracy:.5f}.h5'\n",
    "\n",
    "checkpoint = ModelCheckpoint(filepath, monitor='val_loss', verbose=1, save_best_only=False, save_weights_only=False, mode='auto', period=1)\n",
    "\n",
    "LR = ReduceLROnPlateau(monitor='val_loss', factor=0.01, patience=5, cooldown=4, verbose=1,mode='auto',min_delta=0.0001)  # write the REducelronplateau code here\n",
    "callbacks_list = [checkpoint, LR]"
   ]
  },
  {
   "cell_type": "code",
   "execution_count": 106,
   "metadata": {},
   "outputs": [],
   "source": [
    "if (num_train_sequences%batch_size) == 0:\n",
    "    steps_per_epoch = int(num_train_sequences/batch_size)\n",
    "else:\n",
    "    steps_per_epoch = (num_train_sequences//batch_size) + 1\n",
    "\n",
    "if (num_val_sequences%batch_size) == 0:\n",
    "    validation_steps = int(num_val_sequences/batch_size)\n",
    "else:\n",
    "    validation_steps = (num_val_sequences//batch_size) + 1"
   ]
  },
  {
   "cell_type": "code",
   "execution_count": 107,
   "metadata": {},
   "outputs": [
    {
     "name": "stdout",
     "output_type": "stream",
     "text": [
      "Source path =  ../val ; batch size = 15\n",
      "Source path =  ../train ; batch size = 15\n",
      "Epoch 1/10\n"
     ]
    },
    {
     "name": "stderr",
     "output_type": "stream",
     "text": [
      "/mnt/disks/user/anaconda3/lib/python3.6/site-packages/ipykernel_launcher.py:18: DeprecationWarning: `imread` is deprecated!\n",
      "`imread` is deprecated in SciPy 1.0.0, and will be removed in 1.2.0.\n",
      "Use ``imageio.imread`` instead.\n",
      "/mnt/disks/user/anaconda3/lib/python3.6/site-packages/skimage/transform/_warps.py:110: UserWarning: Anti-aliasing will be enabled by default in skimage 0.15 to avoid aliasing artifacts when down-sampling images.\n",
      "  warn(\"Anti-aliasing will be enabled by default in skimage 0.15 to \"\n",
      "/mnt/disks/user/anaconda3/lib/python3.6/site-packages/ipykernel_launcher.py:44: DeprecationWarning: `imread` is deprecated!\n",
      "`imread` is deprecated in SciPy 1.0.0, and will be removed in 1.2.0.\n",
      "Use ``imageio.imread`` instead.\n"
     ]
    },
    {
     "name": "stdout",
     "output_type": "stream",
     "text": [
      "45/45 [==============================] - 77s 2s/step - loss: 2.9672 - categorical_accuracy: 0.3526 - val_loss: 3.2595 - val_categorical_accuracy: 0.4190\n",
      "\n",
      "Epoch 00001: saving model to model_init_2020-11-0819_31_38.766386/model-00001-2.96722-0.35259-3.25951-0.41905.h5\n",
      "Epoch 2/10\n",
      "45/45 [==============================] - 52s 1s/step - loss: 2.4025 - categorical_accuracy: 0.5067 - val_loss: 3.1574 - val_categorical_accuracy: 0.4381\n",
      "\n",
      "Epoch 00002: saving model to model_init_2020-11-0819_31_38.766386/model-00002-2.40249-0.50667-3.15741-0.43810.h5\n",
      "Epoch 3/10\n",
      "45/45 [==============================] - 60s 1s/step - loss: 1.9628 - categorical_accuracy: 0.6326 - val_loss: 3.2627 - val_categorical_accuracy: 0.4667\n",
      "\n",
      "Epoch 00003: saving model to model_init_2020-11-0819_31_38.766386/model-00003-1.96276-0.63259-3.26270-0.46667.h5\n",
      "Epoch 4/10\n",
      "45/45 [==============================] - 58s 1s/step - loss: 1.6666 - categorical_accuracy: 0.6963 - val_loss: 2.7627 - val_categorical_accuracy: 0.4667\n",
      "\n",
      "Epoch 00004: saving model to model_init_2020-11-0819_31_38.766386/model-00004-1.66662-0.69630-2.76272-0.46667.h5\n",
      "Epoch 5/10\n",
      "45/45 [==============================] - 58s 1s/step - loss: 1.3770 - categorical_accuracy: 0.7541 - val_loss: 3.1409 - val_categorical_accuracy: 0.4286\n",
      "\n",
      "Epoch 00005: saving model to model_init_2020-11-0819_31_38.766386/model-00005-1.37704-0.75407-3.14086-0.42857.h5\n",
      "Epoch 6/10\n",
      "45/45 [==============================] - 64s 1s/step - loss: 1.1880 - categorical_accuracy: 0.7822 - val_loss: 3.4262 - val_categorical_accuracy: 0.3810\n",
      "\n",
      "Epoch 00006: saving model to model_init_2020-11-0819_31_38.766386/model-00006-1.18800-0.78222-3.42620-0.38095.h5\n",
      "Epoch 7/10\n",
      "45/45 [==============================] - 59s 1s/step - loss: 1.0976 - categorical_accuracy: 0.8133 - val_loss: 2.7688 - val_categorical_accuracy: 0.5238\n",
      "\n",
      "Epoch 00007: saving model to model_init_2020-11-0819_31_38.766386/model-00007-1.09760-0.81333-2.76884-0.52381.h5\n",
      "Epoch 8/10\n",
      "45/45 [==============================] - 62s 1s/step - loss: 0.9587 - categorical_accuracy: 0.8356 - val_loss: 1.8946 - val_categorical_accuracy: 0.6571\n",
      "\n",
      "Epoch 00008: saving model to model_init_2020-11-0819_31_38.766386/model-00008-0.95873-0.83556-1.89460-0.65714.h5\n",
      "Epoch 9/10\n",
      "45/45 [==============================] - 61s 1s/step - loss: 0.8209 - categorical_accuracy: 0.8667 - val_loss: 2.9322 - val_categorical_accuracy: 0.5429\n",
      "\n",
      "Epoch 00009: saving model to model_init_2020-11-0819_31_38.766386/model-00009-0.82089-0.86667-2.93220-0.54286.h5\n",
      "Epoch 10/10\n",
      "45/45 [==============================] - 62s 1s/step - loss: 0.7686 - categorical_accuracy: 0.8904 - val_loss: 2.4437 - val_categorical_accuracy: 0.5714\n",
      "\n",
      "Epoch 00010: saving model to model_init_2020-11-0819_31_38.766386/model-00010-0.76858-0.89037-2.44373-0.57143.h5\n"
     ]
    }
   ],
   "source": [
    "trained_model= model.fit_generator(train_generator, steps_per_epoch=steps_per_epoch, epochs=num_epochs, verbose=1, \n",
    "                    callbacks=callbacks_list, validation_data=val_generator, \n",
    "                    validation_steps=validation_steps, class_weight=None, workers=1, initial_epoch=0)"
   ]
  },
  {
   "cell_type": "code",
   "execution_count": 108,
   "metadata": {},
   "outputs": [
    {
     "data": {
      "image/png": "[encoded data removed]",
      "text/plain": [
       "<Figure size 432x288 with 1 Axes>"
      ]
     },
     "metadata": {},
     "output_type": "display_data"
    }
   ],
   "source": [
    "# summarize for model  accuracy\n",
    "plt.plot(trained_model.history['categorical_accuracy'])\n",
    "plt.plot(trained_model.history['val_categorical_accuracy'])\n",
    "plt.title('model accuracy')\n",
    "plt.ylabel('accuracy')\n",
    "plt.xlabel('epoch')\n",
    "plt.legend(['train', 'test'], loc='upper left')\n",
    "plt.show()"
   ]
  },
  {
   "cell_type": "markdown",
   "metadata": {},
   "source": [
    "#### Model 4 : Conv2D layers + GRU Layer+ SDG  optimiser + dropout + L2 regularization"
   ]
  },
  {
   "cell_type": "code",
   "execution_count": 109,
   "metadata": {},
   "outputs": [],
   "source": [
    "num_featuremaps = [16,32,64,128]\n",
    "num_denselayers = [64,32,5]\n",
    "num_classes = 5\n",
    "frames = 15\n",
    "dropout = 0.25\n",
    "\n",
    "# Input\n",
    "input_shape=(frames,120,120,3)\n",
    "\n",
    "model = Sequential()\n",
    "\n",
    "model.add(TimeDistributed(Conv2D(num_featuremaps[0], (3, 3), strides=(2, 2),activation='relu', padding='same'), input_shape=input_shape))\n",
    "model.add(TimeDistributed(BatchNormalization()))\n",
    "model.add(TimeDistributed(MaxPooling2D((2, 2), strides=(2, 2))))\n",
    "model.add(Dropout(dropout))\n",
    "\n",
    "model.add(TimeDistributed(Conv2D(num_featuremaps[1], (3,3),padding='same', activation='relu')))\n",
    "model.add(TimeDistributed(BatchNormalization()))\n",
    "model.add(TimeDistributed(MaxPooling2D((2, 2), strides=(2, 2))))\n",
    "\n",
    "model.add(TimeDistributed(Conv2D(num_featuremaps[2], (3,3),padding='same', activation='relu')))\n",
    "model.add(TimeDistributed(BatchNormalization()))\n",
    "model.add(TimeDistributed(MaxPooling2D((2, 2), strides=(2, 2))))\n",
    "model.add(Dropout(dropout))\n",
    "\n",
    "model.add(TimeDistributed(Conv2D(num_featuremaps[3], (2,2),padding='same', activation='relu')))\n",
    "model.add(TimeDistributed(BatchNormalization()))\n",
    "model.add(TimeDistributed(MaxPooling2D((2, 2), strides=(2, 2))))\n",
    "\n",
    "model.add(TimeDistributed(Flatten()))\n",
    "\n",
    "model.add(Dense(num_denselayers[0], activation='relu', kernel_regularizer=l2(0.01)))\n",
    "model.add(Dense(num_denselayers[1], activation='relu', kernel_regularizer=l2(0.01)))\n",
    "model.add(Dropout(dropout))\n",
    "\n",
    "## using GRU as the RNN model along with softmax as our last layer.\n",
    "model.add(GRU(64, return_sequences=False))\n",
    "model.add(Dropout(dropout))\n",
    "\n",
    " # using Softmax as last layer\n",
    "model.add(Dense(num_classes, activation='softmax'))"
   ]
  },
  {
   "cell_type": "code",
   "execution_count": 110,
   "metadata": {},
   "outputs": [
    {
     "name": "stdout",
     "output_type": "stream",
     "text": [
      "_________________________________________________________________\n",
      "Layer (type)                 Output Shape              Param #   \n",
      "=================================================================\n",
      "time_distributed_102 (TimeDi (None, 15, 60, 60, 16)    448       \n",
      "_________________________________________________________________\n",
      "time_distributed_103 (TimeDi (None, 15, 60, 60, 16)    64        \n",
      "_________________________________________________________________\n",
      "time_distributed_104 (TimeDi (None, 15, 30, 30, 16)    0         \n",
      "_________________________________________________________________\n",
      "dropout_29 (Dropout)         (None, 15, 30, 30, 16)    0         \n",
      "_________________________________________________________________\n",
      "time_distributed_105 (TimeDi (None, 15, 30, 30, 32)    4640      \n",
      "_________________________________________________________________\n",
      "time_distributed_106 (TimeDi (None, 15, 30, 30, 32)    128       \n",
      "_________________________________________________________________\n",
      "time_distributed_107 (TimeDi (None, 15, 15, 15, 32)    0         \n",
      "_________________________________________________________________\n",
      "time_distributed_108 (TimeDi (None, 15, 15, 15, 64)    18496     \n",
      "_________________________________________________________________\n",
      "time_distributed_109 (TimeDi (None, 15, 15, 15, 64)    256       \n",
      "_________________________________________________________________\n",
      "time_distributed_110 (TimeDi (None, 15, 7, 7, 64)      0         \n",
      "_________________________________________________________________\n",
      "dropout_30 (Dropout)         (None, 15, 7, 7, 64)      0         \n",
      "_________________________________________________________________\n",
      "time_distributed_111 (TimeDi (None, 15, 7, 7, 128)     32896     \n",
      "_________________________________________________________________\n",
      "time_distributed_112 (TimeDi (None, 15, 7, 7, 128)     512       \n",
      "_________________________________________________________________\n",
      "time_distributed_113 (TimeDi (None, 15, 3, 3, 128)     0         \n",
      "_________________________________________________________________\n",
      "time_distributed_114 (TimeDi (None, 15, 1152)          0         \n",
      "_________________________________________________________________\n",
      "dense_32 (Dense)             (None, 15, 64)            73792     \n",
      "_________________________________________________________________\n",
      "dense_33 (Dense)             (None, 15, 32)            2080      \n",
      "_________________________________________________________________\n",
      "dropout_31 (Dropout)         (None, 15, 32)            0         \n",
      "_________________________________________________________________\n",
      "gru_15 (GRU)                 (None, 64)                18624     \n",
      "_________________________________________________________________\n",
      "dropout_32 (Dropout)         (None, 64)                0         \n",
      "_________________________________________________________________\n",
      "dense_34 (Dense)             (None, 5)                 325       \n",
      "=================================================================\n",
      "Total params: 152,261\n",
      "Trainable params: 151,781\n",
      "Non-trainable params: 480\n",
      "_________________________________________________________________\n",
      "None\n"
     ]
    }
   ],
   "source": [
    "optimiser = \"sgd\" #write your optimizer\n",
    "model.compile(optimizer=optimiser, loss='categorical_crossentropy', metrics=['categorical_accuracy'])\n",
    "\n",
    "# Model Summary\n",
    "print (model.summary())"
   ]
  },
  {
   "cell_type": "code",
   "execution_count": 111,
   "metadata": {},
   "outputs": [],
   "source": [
    "train_generator = generator(train_path, train_doc, batch_size)\n",
    "val_generator = generator(val_path, val_doc, batch_size)"
   ]
  },
  {
   "cell_type": "code",
   "execution_count": 112,
   "metadata": {},
   "outputs": [],
   "source": [
    "model_name = 'model_init' + '_' + str(curr_dt_time).replace(' ','').replace(':','_') + '/'\n",
    "    \n",
    "if not os.path.exists(model_name):\n",
    "    os.mkdir(model_name)\n",
    "        \n",
    "filepath = model_name + 'model-{epoch:05d}-{loss:.5f}-{categorical_accuracy:.5f}-{val_loss:.5f}-{val_categorical_accuracy:.5f}.h5'\n",
    "\n",
    "checkpoint = ModelCheckpoint(filepath, monitor='val_loss', verbose=1, save_best_only=False, save_weights_only=False, mode='auto', period=1)\n",
    "\n",
    "LR = ReduceLROnPlateau(monitor='val_loss', factor=0.01, patience=5, cooldown=4, verbose=1,mode='auto',min_delta=0.0001)  # write the REducelronplateau code here\n",
    "callbacks_list = [checkpoint, LR]"
   ]
  },
  {
   "cell_type": "code",
   "execution_count": 113,
   "metadata": {},
   "outputs": [],
   "source": [
    "if (num_train_sequences%batch_size) == 0:\n",
    "    steps_per_epoch = int(num_train_sequences/batch_size)\n",
    "else:\n",
    "    steps_per_epoch = (num_train_sequences//batch_size) + 1\n",
    "\n",
    "if (num_val_sequences%batch_size) == 0:\n",
    "    validation_steps = int(num_val_sequences/batch_size)\n",
    "else:\n",
    "    validation_steps = (num_val_sequences//batch_size) + 1"
   ]
  },
  {
   "cell_type": "code",
   "execution_count": 114,
   "metadata": {},
   "outputs": [
    {
     "name": "stdout",
     "output_type": "stream",
     "text": [
      "Source path =  ../val ; batch size = 15\n",
      "Source path =  ../train ; batch size = 15\n",
      "Epoch 1/10\n"
     ]
    },
    {
     "name": "stderr",
     "output_type": "stream",
     "text": [
      "/mnt/disks/user/anaconda3/lib/python3.6/site-packages/ipykernel_launcher.py:18: DeprecationWarning: `imread` is deprecated!\n",
      "`imread` is deprecated in SciPy 1.0.0, and will be removed in 1.2.0.\n",
      "Use ``imageio.imread`` instead.\n",
      "/mnt/disks/user/anaconda3/lib/python3.6/site-packages/skimage/transform/_warps.py:110: UserWarning: Anti-aliasing will be enabled by default in skimage 0.15 to avoid aliasing artifacts when down-sampling images.\n",
      "  warn(\"Anti-aliasing will be enabled by default in skimage 0.15 to \"\n",
      "/mnt/disks/user/anaconda3/lib/python3.6/site-packages/ipykernel_launcher.py:44: DeprecationWarning: `imread` is deprecated!\n",
      "`imread` is deprecated in SciPy 1.0.0, and will be removed in 1.2.0.\n",
      "Use ``imageio.imread`` instead.\n"
     ]
    },
    {
     "name": "stdout",
     "output_type": "stream",
     "text": [
      "45/45 [==============================] - 80s 2s/step - loss: 3.2546 - categorical_accuracy: 0.2533 - val_loss: 3.5191 - val_categorical_accuracy: 0.2571\n",
      "\n",
      "Epoch 00001: saving model to model_init_2020-11-0819_31_38.766386/model-00001-3.25460-0.25333-3.51906-0.25714.h5\n",
      "Epoch 2/10\n",
      "45/45 [==============================] - 50s 1s/step - loss: 3.0493 - categorical_accuracy: 0.3911 - val_loss: 3.3852 - val_categorical_accuracy: 0.2667\n",
      "\n",
      "Epoch 00002: saving model to model_init_2020-11-0819_31_38.766386/model-00002-3.04926-0.39111-3.38520-0.26667.h5\n",
      "Epoch 3/10\n",
      "45/45 [==============================] - 58s 1s/step - loss: 2.7906 - categorical_accuracy: 0.5007 - val_loss: 4.0924 - val_categorical_accuracy: 0.2190\n",
      "\n",
      "Epoch 00003: saving model to model_init_2020-11-0819_31_38.766386/model-00003-2.79060-0.50074-4.09244-0.21905.h5\n",
      "Epoch 4/10\n",
      "45/45 [==============================] - 60s 1s/step - loss: 2.5932 - categorical_accuracy: 0.5748 - val_loss: 3.6762 - val_categorical_accuracy: 0.3429\n",
      "\n",
      "Epoch 00004: saving model to model_init_2020-11-0819_31_38.766386/model-00004-2.59316-0.57481-3.67619-0.34286.h5\n",
      "Epoch 5/10\n",
      "45/45 [==============================] - 57s 1s/step - loss: 2.5285 - categorical_accuracy: 0.6015 - val_loss: 3.4598 - val_categorical_accuracy: 0.3333\n",
      "\n",
      "Epoch 00005: saving model to model_init_2020-11-0819_31_38.766386/model-00005-2.52853-0.60148-3.45983-0.33333.h5\n",
      "Epoch 6/10\n",
      "45/45 [==============================] - 61s 1s/step - loss: 2.3978 - categorical_accuracy: 0.6430 - val_loss: 3.4426 - val_categorical_accuracy: 0.3524\n",
      "\n",
      "Epoch 00006: saving model to model_init_2020-11-0819_31_38.766386/model-00006-2.39777-0.64296-3.44256-0.35238.h5\n",
      "Epoch 7/10\n",
      "45/45 [==============================] - 67s 1s/step - loss: 2.2830 - categorical_accuracy: 0.6948 - val_loss: 3.0735 - val_categorical_accuracy: 0.5048\n",
      "\n",
      "Epoch 00007: saving model to model_init_2020-11-0819_31_38.766386/model-00007-2.28298-0.69481-3.07348-0.50476.h5\n",
      "Epoch 8/10\n",
      "45/45 [==============================] - 62s 1s/step - loss: 2.2564 - categorical_accuracy: 0.6904 - val_loss: 3.1352 - val_categorical_accuracy: 0.5905\n",
      "\n",
      "Epoch 00008: saving model to model_init_2020-11-0819_31_38.766386/model-00008-2.25637-0.69037-3.13521-0.59048.h5\n",
      "Epoch 9/10\n",
      "45/45 [==============================] - 61s 1s/step - loss: 2.1107 - categorical_accuracy: 0.7615 - val_loss: 2.6645 - val_categorical_accuracy: 0.6476\n",
      "\n",
      "Epoch 00009: saving model to model_init_2020-11-0819_31_38.766386/model-00009-2.11073-0.76148-2.66452-0.64762.h5\n",
      "Epoch 10/10\n",
      "45/45 [==============================] - 63s 1s/step - loss: 2.0297 - categorical_accuracy: 0.7896 - val_loss: 3.1687 - val_categorical_accuracy: 0.5238\n",
      "\n",
      "Epoch 00010: saving model to model_init_2020-11-0819_31_38.766386/model-00010-2.02973-0.78963-3.16874-0.52381.h5\n"
     ]
    }
   ],
   "source": [
    "trained_model= model.fit_generator(train_generator, steps_per_epoch=steps_per_epoch, epochs=num_epochs, verbose=1, \n",
    "                    callbacks=callbacks_list, validation_data=val_generator, \n",
    "                    validation_steps=validation_steps, class_weight=None, workers=1, initial_epoch=0)"
   ]
  },
  {
   "cell_type": "code",
   "execution_count": 115,
   "metadata": {},
   "outputs": [
    {
     "data": {
      "image/png": "[encoded data removed]",
      "text/plain": [
       "<Figure size 432x288 with 1 Axes>"
      ]
     },
     "metadata": {},
     "output_type": "display_data"
    }
   ],
   "source": [
    "# summarize for model  accuracy\n",
    "plt.plot(trained_model.history['categorical_accuracy'])\n",
    "plt.plot(trained_model.history['val_categorical_accuracy'])\n",
    "plt.title('model accuracy')\n",
    "plt.ylabel('accuracy')\n",
    "plt.xlabel('epoch')\n",
    "plt.legend(['train', 'test'], loc='upper left')\n",
    "plt.show()"
   ]
  },
  {
   "cell_type": "markdown",
   "metadata": {},
   "source": [
    "#### Model 5 : Conv3D layers + Dropout + Batch Normalization + L2 Regularization"
   ]
  },
  {
   "cell_type": "code",
   "execution_count": 7,
   "metadata": {},
   "outputs": [],
   "source": [
    "num_featuremaps = [16,32,64,128]\n",
    "num_denselayers = [64,32,5]\n",
    "num_classes = 5\n",
    "frames = 15\n",
    "dropout = 0.25\n",
    "\n",
    "# Input\n",
    "input_shape=(frames,120,120,3)\n",
    "\n",
    "# Define model\n",
    "model = Sequential()\n",
    "\n",
    "\n",
    "model.add(Conv3D(num_featuremaps[0], (3, 3, 3), padding = 'same', input_shape = input_shape))\n",
    "model.add(Activation('relu'))\n",
    "model.add(BatchNormalization())\n",
    "model.add(MaxPooling3D(pool_size = (2, 2, 2)))\n",
    "model.add(Dropout(0.25))\n",
    "          \n",
    "model.add(Conv3D(num_featuremaps[1], (2, 2, 2), padding = 'same'))\n",
    "model.add(Activation('relu'))\n",
    "model.add(BatchNormalization())\n",
    "model.add(MaxPooling3D(pool_size = (2, 2, 2)))\n",
    "\n",
    "model.add(Conv3D(num_featuremaps[2], (2, 2, 2), padding = 'same'))\n",
    "model.add(Activation('relu'))\n",
    "model.add(BatchNormalization())\n",
    "model.add(MaxPooling3D(pool_size = (2, 2, 2)))\n",
    "model.add(Dropout(0.25))\n",
    "          \n",
    "model.add(Flatten())\n",
    "          \n",
    "model.add(Dense(num_denselayers[0], activation='relu',kernel_regularizer=l2(0.01)))\n",
    "model.add(Dropout(0.25))\n",
    "          \n",
    "model.add(Dense(num_denselayers[1], activation='relu',kernel_regularizer=l2(0.01)))\n",
    "model.add(Dropout(0.25))\n",
    "          \n",
    "\n",
    " # using Softmax as last layer\n",
    "model.add(Dense(num_classes, activation='softmax'))"
   ]
  },
  {
   "cell_type": "code",
   "execution_count": 8,
   "metadata": {},
   "outputs": [
    {
     "name": "stdout",
     "output_type": "stream",
     "text": [
      "_________________________________________________________________\n",
      "Layer (type)                 Output Shape              Param #   \n",
      "=================================================================\n",
      "conv3d_1 (Conv3D)            (None, 15, 120, 120, 16)  1312      \n",
      "_________________________________________________________________\n",
      "activation_1 (Activation)    (None, 15, 120, 120, 16)  0         \n",
      "_________________________________________________________________\n",
      "batch_normalization_1 (Batch (None, 15, 120, 120, 16)  64        \n",
      "_________________________________________________________________\n",
      "max_pooling3d_1 (MaxPooling3 (None, 7, 60, 60, 16)     0         \n",
      "_________________________________________________________________\n",
      "dropout_1 (Dropout)          (None, 7, 60, 60, 16)     0         \n",
      "_________________________________________________________________\n",
      "conv3d_2 (Conv3D)            (None, 7, 60, 60, 32)     4128      \n",
      "_________________________________________________________________\n",
      "activation_2 (Activation)    (None, 7, 60, 60, 32)     0         \n",
      "_________________________________________________________________\n",
      "batch_normalization_2 (Batch (None, 7, 60, 60, 32)     128       \n",
      "_________________________________________________________________\n",
      "max_pooling3d_2 (MaxPooling3 (None, 3, 30, 30, 32)     0         \n",
      "_________________________________________________________________\n",
      "conv3d_3 (Conv3D)            (None, 3, 30, 30, 64)     16448     \n",
      "_________________________________________________________________\n",
      "activation_3 (Activation)    (None, 3, 30, 30, 64)     0         \n",
      "_________________________________________________________________\n",
      "batch_normalization_3 (Batch (None, 3, 30, 30, 64)     256       \n",
      "_________________________________________________________________\n",
      "max_pooling3d_3 (MaxPooling3 (None, 1, 15, 15, 64)     0         \n",
      "_________________________________________________________________\n",
      "dropout_2 (Dropout)          (None, 1, 15, 15, 64)     0         \n",
      "_________________________________________________________________\n",
      "flatten_1 (Flatten)          (None, 14400)             0         \n",
      "_________________________________________________________________\n",
      "dense_1 (Dense)              (None, 64)                921664    \n",
      "_________________________________________________________________\n",
      "dropout_3 (Dropout)          (None, 64)                0         \n",
      "_________________________________________________________________\n",
      "dense_2 (Dense)              (None, 32)                2080      \n",
      "_________________________________________________________________\n",
      "dropout_4 (Dropout)          (None, 32)                0         \n",
      "_________________________________________________________________\n",
      "dense_3 (Dense)              (None, 5)                 165       \n",
      "=================================================================\n",
      "Total params: 946,245\n",
      "Trainable params: 946,021\n",
      "Non-trainable params: 224\n",
      "_________________________________________________________________\n",
      "None\n"
     ]
    }
   ],
   "source": [
    "optimiser = \"Adam\" #write your optimizer\n",
    "model.compile(optimizer=optimiser, loss='categorical_crossentropy', metrics=['categorical_accuracy'])\n",
    "\n",
    "# Model Summary\n",
    "print (model.summary())"
   ]
  },
  {
   "cell_type": "code",
   "execution_count": 9,
   "metadata": {},
   "outputs": [],
   "source": [
    "train_generator = generator(train_path, train_doc, batch_size)\n",
    "val_generator = generator(val_path, val_doc, batch_size)"
   ]
  },
  {
   "cell_type": "code",
   "execution_count": 10,
   "metadata": {},
   "outputs": [],
   "source": [
    "model_name = 'model_init' + '_' + str(curr_dt_time).replace(' ','').replace(':','_') + '/'\n",
    "    \n",
    "if not os.path.exists(model_name):\n",
    "    os.mkdir(model_name)\n",
    "        \n",
    "filepath = model_name + 'model-{epoch:05d}-{loss:.5f}-{categorical_accuracy:.5f}-{val_loss:.5f}-{val_categorical_accuracy:.5f}.h5'\n",
    "\n",
    "checkpoint = ModelCheckpoint(filepath, monitor='val_loss', verbose=1, save_best_only=False, save_weights_only=False, mode='auto', period=1)\n",
    "\n",
    "LR = ReduceLROnPlateau(monitor='val_loss', factor=0.01, patience=5, cooldown=4, verbose=1,mode='auto',min_delta=0.0001)  # write the REducelronplateau code here\n",
    "callbacks_list = [checkpoint, LR]"
   ]
  },
  {
   "cell_type": "code",
   "execution_count": 11,
   "metadata": {},
   "outputs": [],
   "source": [
    "if (num_train_sequences%batch_size) == 0:\n",
    "    steps_per_epoch = int(num_train_sequences/batch_size)\n",
    "else:\n",
    "    steps_per_epoch = (num_train_sequences//batch_size) + 1\n",
    "\n",
    "if (num_val_sequences%batch_size) == 0:\n",
    "    validation_steps = int(num_val_sequences/batch_size)\n",
    "else:\n",
    "    validation_steps = (num_val_sequences//batch_size) + 1"
   ]
  },
  {
   "cell_type": "code",
   "execution_count": 12,
   "metadata": {},
   "outputs": [
    {
     "name": "stdout",
     "output_type": "stream",
     "text": [
      "Source path =  ../val ; batch size = 15\n",
      "Source path =  ../train ; batch size = 15\n",
      "Epoch 1/10\n"
     ]
    },
    {
     "name": "stderr",
     "output_type": "stream",
     "text": [
      "/mnt/disks/user/anaconda3/lib/python3.6/site-packages/ipykernel_launcher.py:18: DeprecationWarning: `imread` is deprecated!\n",
      "`imread` is deprecated in SciPy 1.0.0, and will be removed in 1.2.0.\n",
      "Use ``imageio.imread`` instead.\n",
      "/mnt/disks/user/anaconda3/lib/python3.6/site-packages/skimage/transform/_warps.py:110: UserWarning: Anti-aliasing will be enabled by default in skimage 0.15 to avoid aliasing artifacts when down-sampling images.\n",
      "  warn(\"Anti-aliasing will be enabled by default in skimage 0.15 to \"\n",
      "/mnt/disks/user/anaconda3/lib/python3.6/site-packages/ipykernel_launcher.py:44: DeprecationWarning: `imread` is deprecated!\n",
      "`imread` is deprecated in SciPy 1.0.0, and will be removed in 1.2.0.\n",
      "Use ``imageio.imread`` instead.\n"
     ]
    },
    {
     "name": "stdout",
     "output_type": "stream",
     "text": [
      "45/45 [==============================] - 167s 4s/step - loss: 4.1694 - categorical_accuracy: 0.2430 - val_loss: 3.6613 - val_categorical_accuracy: 0.3810\n",
      "\n",
      "Epoch 00001: saving model to model_init_2020-11-0912_04_23.307610/model-00001-4.16941-0.24296-3.66128-0.38095.h5\n",
      "Epoch 2/10\n",
      "45/45 [==============================] - 78s 2s/step - loss: 3.0612 - categorical_accuracy: 0.3156 - val_loss: 3.4030 - val_categorical_accuracy: 0.4190\n",
      "\n",
      "Epoch 00002: saving model to model_init_2020-11-0912_04_23.307610/model-00002-3.06124-0.31556-3.40296-0.41905.h5\n",
      "Epoch 3/10\n",
      "45/45 [==============================] - 78s 2s/step - loss: 2.7008 - categorical_accuracy: 0.3467 - val_loss: 2.9066 - val_categorical_accuracy: 0.4476\n",
      "\n",
      "Epoch 00003: saving model to model_init_2020-11-0912_04_23.307610/model-00003-2.70079-0.34667-2.90655-0.44762.h5\n",
      "Epoch 4/10\n",
      "45/45 [==============================] - 98s 2s/step - loss: 2.4020 - categorical_accuracy: 0.4489 - val_loss: 2.7684 - val_categorical_accuracy: 0.5048\n",
      "\n",
      "Epoch 00004: saving model to model_init_2020-11-0912_04_23.307610/model-00004-2.40196-0.44889-2.76837-0.50476.h5\n",
      "Epoch 5/10\n",
      "45/45 [==============================] - 64s 1s/step - loss: 2.1587 - categorical_accuracy: 0.4459 - val_loss: 2.6171 - val_categorical_accuracy: 0.4952\n",
      "\n",
      "Epoch 00005: saving model to model_init_2020-11-0912_04_23.307610/model-00005-2.15874-0.44593-2.61709-0.49524.h5\n",
      "Epoch 6/10\n",
      "45/45 [==============================] - 64s 1s/step - loss: 1.9670 - categorical_accuracy: 0.5170 - val_loss: 2.3096 - val_categorical_accuracy: 0.4476\n",
      "\n",
      "Epoch 00006: saving model to model_init_2020-11-0912_04_23.307610/model-00006-1.96697-0.51704-2.30960-0.44762.h5\n",
      "Epoch 7/10\n",
      "45/45 [==============================] - 67s 1s/step - loss: 1.8946 - categorical_accuracy: 0.5259 - val_loss: 2.3634 - val_categorical_accuracy: 0.4857\n",
      "\n",
      "Epoch 00007: saving model to model_init_2020-11-0912_04_23.307610/model-00007-1.89460-0.52593-2.36339-0.48571.h5\n",
      "Epoch 8/10\n",
      "45/45 [==============================] - 61s 1s/step - loss: 1.7596 - categorical_accuracy: 0.5511 - val_loss: 2.4987 - val_categorical_accuracy: 0.4571\n",
      "\n",
      "Epoch 00008: saving model to model_init_2020-11-0912_04_23.307610/model-00008-1.75962-0.55111-2.49871-0.45714.h5\n",
      "Epoch 9/10\n",
      "45/45 [==============================] - 60s 1s/step - loss: 1.7006 - categorical_accuracy: 0.5541 - val_loss: 4.6345 - val_categorical_accuracy: 0.4381\n",
      "\n",
      "Epoch 00009: saving model to model_init_2020-11-0912_04_23.307610/model-00009-1.70055-0.55407-4.63453-0.43810.h5\n",
      "Epoch 10/10\n",
      "45/45 [==============================] - 100s 2s/step - loss: 1.6475 - categorical_accuracy: 0.6133 - val_loss: 4.9062 - val_categorical_accuracy: 0.3143\n",
      "\n",
      "Epoch 00010: saving model to model_init_2020-11-0912_04_23.307610/model-00010-1.64747-0.61333-4.90621-0.31429.h5\n"
     ]
    }
   ],
   "source": [
    "trained_model= model.fit_generator(train_generator, steps_per_epoch=steps_per_epoch, epochs=num_epochs, verbose=1, \n",
    "                    callbacks=callbacks_list, validation_data=val_generator, \n",
    "                    validation_steps=validation_steps, class_weight=None, workers=1, initial_epoch=0)"
   ]
  },
  {
   "cell_type": "code",
   "execution_count": 13,
   "metadata": {},
   "outputs": [
    {
     "data": {
      "image/png": "[encoded data removed]",
      "text/plain": [
       "<Figure size 432x288 with 1 Axes>"
      ]
     },
     "metadata": {},
     "output_type": "display_data"
    }
   ],
   "source": [
    "# summarize for model  accuracy\n",
    "plt.plot(trained_model.history['categorical_accuracy'])\n",
    "plt.plot(trained_model.history['val_categorical_accuracy'])\n",
    "plt.title('model accuracy')\n",
    "plt.ylabel('accuracy')\n",
    "plt.xlabel('epoch')\n",
    "plt.legend(['train', 'test'], loc='upper left')\n",
    "plt.show()"
   ]
  },
  {
   "cell_type": "markdown",
   "metadata": {},
   "source": [
    "#### Model 6 : Transfer Learning + Resnet50 +  dropout +  GRU Layer"
   ]
  },
  {
   "cell_type": "code",
   "execution_count": 8,
   "metadata": {},
   "outputs": [],
   "source": [
    "from keras.applications.resnet50 import ResNet50"
   ]
  },
  {
   "cell_type": "code",
   "execution_count": 9,
   "metadata": {},
   "outputs": [
    {
     "name": "stderr",
     "output_type": "stream",
     "text": [
      "/mnt/disks/user/anaconda3/lib/python3.6/site-packages/keras_applications/resnet50.py:263: UserWarning: The output shape of `ResNet50(include_top=False)` has been changed since Keras 2.2.0.\n",
      "  warnings.warn('The output shape of `ResNet50(include_top=False)` '\n"
     ]
    }
   ],
   "source": [
    "num_featuremaps = [16,32,64,128]\n",
    "num_denselayers = [64,32,5]\n",
    "num_classes = 5\n",
    "frames = 15\n",
    "dropout = 0.25\n",
    "\n",
    "# Input\n",
    "input_shape=(frames,120,120,3)\n",
    "\n",
    "# Define model\n",
    "\n",
    "resnet_model = ResNet50(weights='imagenet', include_top=False)\n",
    "\n",
    "model = Sequential()\n",
    "model.add(TimeDistributed(resnet_model,input_shape=input_shape))\n",
    "model.add(TimeDistributed(BatchNormalization()))\n",
    "model.add(TimeDistributed(MaxPooling2D((2, 2))))\n",
    "model.add(TimeDistributed(Flatten()))\n",
    "\n",
    "\n",
    "model.add(GRU(64, return_sequences=False))\n",
    "model.add(Dropout(dropout))\n",
    "\n",
    "model.add(Dense(num_denselayers[1], activation='relu'))\n",
    "model.add(Dropout(dropout))\n",
    "\n",
    "# using Softmax as last layer\n",
    "model.add(Dense(num_classes, activation='softmax')) "
   ]
  },
  {
   "cell_type": "code",
   "execution_count": 10,
   "metadata": {},
   "outputs": [
    {
     "name": "stdout",
     "output_type": "stream",
     "text": [
      "_________________________________________________________________\n",
      "Layer (type)                 Output Shape              Param #   \n",
      "=================================================================\n",
      "time_distributed_1 (TimeDist (None, 15, 4, 4, 2048)    23587712  \n",
      "_________________________________________________________________\n",
      "time_distributed_2 (TimeDist (None, 15, 4, 4, 2048)    8192      \n",
      "_________________________________________________________________\n",
      "time_distributed_3 (TimeDist (None, 15, 2, 2, 2048)    0         \n",
      "_________________________________________________________________\n",
      "time_distributed_4 (TimeDist (None, 15, 8192)          0         \n",
      "_________________________________________________________________\n",
      "gru_1 (GRU)                  (None, 64)                1585344   \n",
      "_________________________________________________________________\n",
      "dropout_1 (Dropout)          (None, 64)                0         \n",
      "_________________________________________________________________\n",
      "dense_1 (Dense)              (None, 32)                2080      \n",
      "_________________________________________________________________\n",
      "dropout_2 (Dropout)          (None, 32)                0         \n",
      "_________________________________________________________________\n",
      "dense_2 (Dense)              (None, 5)                 165       \n",
      "=================================================================\n",
      "Total params: 25,183,493\n",
      "Trainable params: 25,126,277\n",
      "Non-trainable params: 57,216\n",
      "_________________________________________________________________\n",
      "None\n"
     ]
    }
   ],
   "source": [
    "optimiser = \"Adam\" #write your optimizer\n",
    "model.compile(optimizer=optimiser, loss='categorical_crossentropy', metrics=['categorical_accuracy'])\n",
    "\n",
    "# Model Summary\n",
    "print (model.summary())"
   ]
  },
  {
   "cell_type": "code",
   "execution_count": 11,
   "metadata": {},
   "outputs": [],
   "source": [
    "train_generator = generator(train_path, train_doc, batch_size)\n",
    "val_generator = generator(val_path, val_doc, batch_size)"
   ]
  },
  {
   "cell_type": "code",
   "execution_count": 12,
   "metadata": {},
   "outputs": [],
   "source": [
    "model_name = 'model_init' + '_' + str(curr_dt_time).replace(' ','').replace(':','_') + '/'\n",
    "    \n",
    "if not os.path.exists(model_name):\n",
    "    os.mkdir(model_name)\n",
    "        \n",
    "filepath = model_name + 'model-{epoch:05d}-{loss:.5f}-{categorical_accuracy:.5f}-{val_loss:.5f}-{val_categorical_accuracy:.5f}.h5'\n",
    "\n",
    "checkpoint = ModelCheckpoint(filepath, monitor='val_loss', verbose=1, save_best_only=False, save_weights_only=False, mode='auto', period=1)\n",
    "\n",
    "LR = ReduceLROnPlateau(monitor='val_loss', factor=0.05, patience=5, cooldown=4, verbose=1,mode='auto',min_delta=0.0001)  # write the REducelronplateau code here\n",
    "callbacks_list = [checkpoint, LR]"
   ]
  },
  {
   "cell_type": "code",
   "execution_count": 13,
   "metadata": {},
   "outputs": [],
   "source": [
    "if (num_train_sequences%batch_size) == 0:\n",
    "    steps_per_epoch = int(num_train_sequences/batch_size)\n",
    "else:\n",
    "    steps_per_epoch = (num_train_sequences//batch_size) + 1\n",
    "\n",
    "if (num_val_sequences%batch_size) == 0:\n",
    "    validation_steps = int(num_val_sequences/batch_size)\n",
    "else:\n",
    "    validation_steps = (num_val_sequences//batch_size) + 1"
   ]
  },
  {
   "cell_type": "code",
   "execution_count": 14,
   "metadata": {},
   "outputs": [
    {
     "name": "stdout",
     "output_type": "stream",
     "text": [
      "Source path =  ../val ; batch size = 15\n",
      "Source path =  ../train ; batch size = 15Epoch 1/10\n",
      "\n"
     ]
    },
    {
     "name": "stderr",
     "output_type": "stream",
     "text": [
      "/mnt/disks/user/anaconda3/lib/python3.6/site-packages/ipykernel_launcher.py:18: DeprecationWarning: `imread` is deprecated!\n",
      "`imread` is deprecated in SciPy 1.0.0, and will be removed in 1.2.0.\n",
      "Use ``imageio.imread`` instead.\n",
      "/mnt/disks/user/anaconda3/lib/python3.6/site-packages/skimage/transform/_warps.py:110: UserWarning: Anti-aliasing will be enabled by default in skimage 0.15 to avoid aliasing artifacts when down-sampling images.\n",
      "  warn(\"Anti-aliasing will be enabled by default in skimage 0.15 to \"\n",
      "/mnt/disks/user/anaconda3/lib/python3.6/site-packages/ipykernel_launcher.py:44: DeprecationWarning: `imread` is deprecated!\n",
      "`imread` is deprecated in SciPy 1.0.0, and will be removed in 1.2.0.\n",
      "Use ``imageio.imread`` instead.\n"
     ]
    },
    {
     "name": "stdout",
     "output_type": "stream",
     "text": [
      "45/45 [==============================] - 117s 3s/step - loss: 1.5636 - categorical_accuracy: 0.3200 - val_loss: 1.7821 - val_categorical_accuracy: 0.3429\n",
      "\n",
      "Epoch 00001: saving model to model_init_2020-11-0912_44_25.363423/model-00001-1.56365-0.32000-1.78212-0.34286.h5\n",
      "Epoch 2/10\n",
      "45/45 [==============================] - 85s 2s/step - loss: 1.2673 - categorical_accuracy: 0.4785 - val_loss: 2.3303 - val_categorical_accuracy: 0.3333\n",
      "\n",
      "Epoch 00002: saving model to model_init_2020-11-0912_44_25.363423/model-00002-1.26732-0.47852-2.33032-0.33333.h5\n",
      "Epoch 3/10\n",
      "45/45 [==============================] - 85s 2s/step - loss: 1.1970 - categorical_accuracy: 0.5274 - val_loss: 1.9942 - val_categorical_accuracy: 0.2571\n",
      "\n",
      "Epoch 00003: saving model to model_init_2020-11-0912_44_25.363423/model-00003-1.19697-0.52741-1.99421-0.25714.h5\n",
      "Epoch 4/10\n",
      "45/45 [==============================] - 85s 2s/step - loss: 1.2174 - categorical_accuracy: 0.5230 - val_loss: 2.3283 - val_categorical_accuracy: 0.2667\n",
      "\n",
      "Epoch 00004: saving model to model_init_2020-11-0912_44_25.363423/model-00004-1.21742-0.52296-2.32827-0.26667.h5\n",
      "Epoch 5/10\n",
      "45/45 [==============================] - 85s 2s/step - loss: 1.2566 - categorical_accuracy: 0.5348 - val_loss: 2.0194 - val_categorical_accuracy: 0.2476\n",
      "\n",
      "Epoch 00005: saving model to model_init_2020-11-0912_44_25.363423/model-00005-1.25658-0.53481-2.01941-0.24762.h5\n",
      "Epoch 6/10\n",
      "45/45 [==============================] - 85s 2s/step - loss: 1.3277 - categorical_accuracy: 0.4681 - val_loss: 1.9599 - val_categorical_accuracy: 0.1905\n",
      "\n",
      "Epoch 00006: saving model to model_init_2020-11-0912_44_25.363423/model-00006-1.32773-0.46815-1.95993-0.19048.h5\n",
      "\n",
      "Epoch 00006: ReduceLROnPlateau reducing learning rate to 5.0000002374872565e-05.\n",
      "Epoch 7/10\n",
      "45/45 [==============================] - 85s 2s/step - loss: 1.2554 - categorical_accuracy: 0.4667 - val_loss: 1.9020 - val_categorical_accuracy: 0.2286\n",
      "\n",
      "Epoch 00007: saving model to model_init_2020-11-0912_44_25.363423/model-00007-1.25544-0.46667-1.90199-0.22857.h5\n",
      "Epoch 8/10\n",
      "45/45 [==============================] - 85s 2s/step - loss: 1.1906 - categorical_accuracy: 0.5037 - val_loss: 1.8496 - val_categorical_accuracy: 0.2762\n",
      "\n",
      "Epoch 00008: saving model to model_init_2020-11-0912_44_25.363423/model-00008-1.19059-0.50370-1.84957-0.27619.h5\n",
      "Epoch 9/10\n",
      "45/45 [==============================] - 85s 2s/step - loss: 1.1034 - categorical_accuracy: 0.5585 - val_loss: 1.6348 - val_categorical_accuracy: 0.4571\n",
      "\n",
      "Epoch 00009: saving model to model_init_2020-11-0912_44_25.363423/model-00009-1.10335-0.55852-1.63476-0.45714.h5\n",
      "Epoch 10/10\n",
      "45/45 [==============================] - 85s 2s/step - loss: 1.0070 - categorical_accuracy: 0.5926 - val_loss: 1.5313 - val_categorical_accuracy: 0.4286\n",
      "\n",
      "Epoch 00010: saving model to model_init_2020-11-0912_44_25.363423/model-00010-1.00698-0.59259-1.53133-0.42857.h5\n"
     ]
    }
   ],
   "source": [
    "trained_model= model.fit_generator(train_generator, steps_per_epoch=steps_per_epoch, epochs=num_epochs, verbose=1, \n",
    "                    callbacks=callbacks_list, validation_data=val_generator, \n",
    "                    validation_steps=validation_steps, class_weight=None, workers=1, initial_epoch=0)"
   ]
  },
  {
   "cell_type": "code",
   "execution_count": 15,
   "metadata": {},
   "outputs": [
    {
     "data": {
      "image/png": "[encoded data removed]",
      "text/plain": [
       "<Figure size 432x288 with 1 Axes>"
      ]
     },
     "metadata": {},
     "output_type": "display_data"
    }
   ],
   "source": [
    "# summarize for model  accuracy\n",
    "plt.plot(trained_model.history['categorical_accuracy'])\n",
    "plt.plot(trained_model.history['val_categorical_accuracy'])\n",
    "plt.title('model accuracy')\n",
    "plt.ylabel('accuracy')\n",
    "plt.xlabel('epoch')\n",
    "plt.legend(['train', 'test'], loc='upper left')\n",
    "plt.show()"
   ]
  },
  {
   "cell_type": "markdown",
   "metadata": {},
   "source": [
    "#### Model 7 : Transfer Learning + VGGNET + dropout + GRU Layer"
   ]
  },
  {
   "cell_type": "code",
   "execution_count": 16,
   "metadata": {},
   "outputs": [],
   "source": [
    "from keras.applications.vgg16 import VGG16"
   ]
  },
  {
   "cell_type": "code",
   "execution_count": 17,
   "metadata": {},
   "outputs": [],
   "source": [
    "num_featuremaps = [16,32,64,128]\n",
    "num_denselayers = [64,32,5]\n",
    "num_classes = 5\n",
    "frames = 15\n",
    "dropout = 0.25\n",
    "\n",
    "# Input\n",
    "input_shape=(frames,120,120,3)\n",
    "\n",
    "# Define model\n",
    "vgg_model = VGG16(weights='imagenet', include_top=False)\n",
    "\n",
    "model = Sequential()\n",
    "model.add(TimeDistributed(vgg_model,input_shape=input_shape))\n",
    "model.add(TimeDistributed(BatchNormalization()))\n",
    "model.add(TimeDistributed(MaxPooling2D((2, 2))))\n",
    "model.add(TimeDistributed(Flatten()))\n",
    "\n",
    "\n",
    "model.add(GRU(64, return_sequences=False))\n",
    "model.add(Dropout(dropout))\n",
    "\n",
    "model.add(Dense(num_denselayers[1], activation='relu'))\n",
    "model.add(Dropout(dropout))\n",
    "\n",
    "# using Softmax as last layer\n",
    "model.add(Dense(num_classes, activation='softmax')) "
   ]
  },
  {
   "cell_type": "code",
   "execution_count": 18,
   "metadata": {},
   "outputs": [
    {
     "name": "stdout",
     "output_type": "stream",
     "text": [
      "_________________________________________________________________\n",
      "Layer (type)                 Output Shape              Param #   \n",
      "=================================================================\n",
      "time_distributed_5 (TimeDist (None, 15, 3, 3, 512)     14714688  \n",
      "_________________________________________________________________\n",
      "time_distributed_6 (TimeDist (None, 15, 3, 3, 512)     2048      \n",
      "_________________________________________________________________\n",
      "time_distributed_7 (TimeDist (None, 15, 1, 1, 512)     0         \n",
      "_________________________________________________________________\n",
      "time_distributed_8 (TimeDist (None, 15, 512)           0         \n",
      "_________________________________________________________________\n",
      "gru_2 (GRU)                  (None, 64)                110784    \n",
      "_________________________________________________________________\n",
      "dropout_3 (Dropout)          (None, 64)                0         \n",
      "_________________________________________________________________\n",
      "dense_3 (Dense)              (None, 32)                2080      \n",
      "_________________________________________________________________\n",
      "dropout_4 (Dropout)          (None, 32)                0         \n",
      "_________________________________________________________________\n",
      "dense_4 (Dense)              (None, 5)                 165       \n",
      "=================================================================\n",
      "Total params: 14,829,765\n",
      "Trainable params: 14,828,741\n",
      "Non-trainable params: 1,024\n",
      "_________________________________________________________________\n",
      "None\n"
     ]
    }
   ],
   "source": [
    "optimiser = \"Adam\" #write your optimizer\n",
    "model.compile(optimizer=optimiser, loss='categorical_crossentropy', metrics=['categorical_accuracy'])\n",
    "\n",
    "# Model Summary\n",
    "print (model.summary())"
   ]
  },
  {
   "cell_type": "code",
   "execution_count": 19,
   "metadata": {},
   "outputs": [],
   "source": [
    "train_generator = generator(train_path, train_doc, batch_size)\n",
    "val_generator = generator(val_path, val_doc, batch_size)"
   ]
  },
  {
   "cell_type": "code",
   "execution_count": 20,
   "metadata": {},
   "outputs": [],
   "source": [
    "model_name = 'model_init' + '_' + str(curr_dt_time).replace(' ','').replace(':','_') + '/'\n",
    "    \n",
    "if not os.path.exists(model_name):\n",
    "    os.mkdir(model_name)\n",
    "        \n",
    "filepath = model_name + 'model-{epoch:05d}-{loss:.5f}-{categorical_accuracy:.5f}-{val_loss:.5f}-{val_categorical_accuracy:.5f}.h5'\n",
    "\n",
    "checkpoint = ModelCheckpoint(filepath, monitor='val_loss', verbose=1, save_best_only=False, save_weights_only=False, mode='auto', period=1)\n",
    "\n",
    "LR = ReduceLROnPlateau(monitor='val_loss', factor=0.01, patience=5, cooldown=4, verbose=1,mode='auto',min_delta=0.0001)  # write the REducelronplateau code here\n",
    "callbacks_list = [checkpoint, LR]"
   ]
  },
  {
   "cell_type": "code",
   "execution_count": 21,
   "metadata": {},
   "outputs": [],
   "source": [
    "if (num_train_sequences%batch_size) == 0:\n",
    "    steps_per_epoch = int(num_train_sequences/batch_size)\n",
    "else:\n",
    "    steps_per_epoch = (num_train_sequences//batch_size) + 1\n",
    "\n",
    "if (num_val_sequences%batch_size) == 0:\n",
    "    validation_steps = int(num_val_sequences/batch_size)\n",
    "else:\n",
    "    validation_steps = (num_val_sequences//batch_size) + 1"
   ]
  },
  {
   "cell_type": "code",
   "execution_count": 22,
   "metadata": {},
   "outputs": [
    {
     "name": "stdout",
     "output_type": "stream",
     "text": [
      "Source path =  ../val ; batch size =Source path =  ../train ; batch size = 15\n",
      "Epoch 1/10\n",
      " 15\n"
     ]
    },
    {
     "name": "stderr",
     "output_type": "stream",
     "text": [
      "/mnt/disks/user/anaconda3/lib/python3.6/site-packages/ipykernel_launcher.py:18: DeprecationWarning: `imread` is deprecated!\n",
      "`imread` is deprecated in SciPy 1.0.0, and will be removed in 1.2.0.\n",
      "Use ``imageio.imread`` instead.\n",
      "/mnt/disks/user/anaconda3/lib/python3.6/site-packages/skimage/transform/_warps.py:110: UserWarning: Anti-aliasing will be enabled by default in skimage 0.15 to avoid aliasing artifacts when down-sampling images.\n",
      "  warn(\"Anti-aliasing will be enabled by default in skimage 0.15 to \"\n",
      "/mnt/disks/user/anaconda3/lib/python3.6/site-packages/ipykernel_launcher.py:44: DeprecationWarning: `imread` is deprecated!\n",
      "`imread` is deprecated in SciPy 1.0.0, and will be removed in 1.2.0.\n",
      "Use ``imageio.imread`` instead.\n"
     ]
    },
    {
     "name": "stdout",
     "output_type": "stream",
     "text": [
      "45/45 [==============================] - 107s 2s/step - loss: 1.6400 - categorical_accuracy: 0.2681 - val_loss: 2.0239 - val_categorical_accuracy: 0.2095\n",
      "\n",
      "Epoch 00001: saving model to model_init_2020-11-0912_44_25.363423/model-00001-1.63997-0.26815-2.02394-0.20952.h5\n",
      "Epoch 2/10\n",
      "45/45 [==============================] - 84s 2s/step - loss: 1.4651 - categorical_accuracy: 0.3481 - val_loss: 1.8896 - val_categorical_accuracy: 0.2476\n",
      "\n",
      "Epoch 00002: saving model to model_init_2020-11-0912_44_25.363423/model-00002-1.46506-0.34815-1.88962-0.24762.h5\n",
      "Epoch 3/10\n",
      "45/45 [==============================] - 84s 2s/step - loss: 1.4681 - categorical_accuracy: 0.3630 - val_loss: 3.1518 - val_categorical_accuracy: 0.1905\n",
      "\n",
      "Epoch 00003: saving model to model_init_2020-11-0912_44_25.363423/model-00003-1.46808-0.36296-3.15180-0.19048.h5\n",
      "Epoch 4/10\n",
      "45/45 [==============================] - 84s 2s/step - loss: 1.3777 - categorical_accuracy: 0.4030 - val_loss: 1.8834 - val_categorical_accuracy: 0.2857\n",
      "\n",
      "Epoch 00004: saving model to model_init_2020-11-0912_44_25.363423/model-00004-1.37774-0.40296-1.88339-0.28571.h5\n",
      "Epoch 5/10\n",
      "45/45 [==============================] - 84s 2s/step - loss: 1.3541 - categorical_accuracy: 0.3837 - val_loss: 2.0575 - val_categorical_accuracy: 0.3143\n",
      "\n",
      "Epoch 00005: saving model to model_init_2020-11-0912_44_25.363423/model-00005-1.35408-0.38370-2.05749-0.31429.h5\n",
      "Epoch 6/10\n",
      "45/45 [==============================] - 84s 2s/step - loss: 1.2998 - categorical_accuracy: 0.4207 - val_loss: 3.7656 - val_categorical_accuracy: 0.1905\n",
      "\n",
      "Epoch 00006: saving model to model_init_2020-11-0912_44_25.363423/model-00006-1.29979-0.42074-3.76560-0.19048.h5\n",
      "Epoch 7/10\n",
      "45/45 [==============================] - 84s 2s/step - loss: 1.2854 - categorical_accuracy: 0.4444 - val_loss: 5.1559 - val_categorical_accuracy: 0.1905\n",
      "\n",
      "Epoch 00007: saving model to model_init_2020-11-0912_44_25.363423/model-00007-1.28544-0.44444-5.15588-0.19048.h5\n",
      "Epoch 8/10\n",
      "45/45 [==============================] - 84s 2s/step - loss: 1.2762 - categorical_accuracy: 0.4326 - val_loss: 1.7408 - val_categorical_accuracy: 0.3905\n",
      "\n",
      "Epoch 00008: saving model to model_init_2020-11-0912_44_25.363423/model-00008-1.27619-0.43259-1.74082-0.39048.h5\n",
      "Epoch 9/10\n",
      "45/45 [==============================] - 84s 2s/step - loss: 1.2526 - categorical_accuracy: 0.4578 - val_loss: 2.6662 - val_categorical_accuracy: 0.2571\n",
      "\n",
      "Epoch 00009: saving model to model_init_2020-11-0912_44_25.363423/model-00009-1.25261-0.45778-2.66623-0.25714.h5\n",
      "Epoch 10/10\n",
      "45/45 [==============================] - 84s 2s/step - loss: 1.2751 - categorical_accuracy: 0.4400 - val_loss: 1.5346 - val_categorical_accuracy: 0.4476\n",
      "\n",
      "Epoch 00010: saving model to model_init_2020-11-0912_44_25.363423/model-00010-1.27507-0.44000-1.53463-0.44762.h5\n"
     ]
    }
   ],
   "source": [
    "trained_model= model.fit_generator(train_generator, steps_per_epoch=steps_per_epoch, epochs=num_epochs, verbose=1, \n",
    "                    callbacks=callbacks_list, validation_data=val_generator, \n",
    "                    validation_steps=validation_steps, class_weight=None, workers=1, initial_epoch=0)"
   ]
  },
  {
   "cell_type": "code",
   "execution_count": 23,
   "metadata": {},
   "outputs": [
    {
     "data": {
      "image/png": "[encoded data removed]",
      "text/plain": [
       "<Figure size 432x288 with 1 Axes>"
      ]
     },
     "metadata": {},
     "output_type": "display_data"
    }
   ],
   "source": [
    "# summarize for model  accuracy\n",
    "plt.plot(trained_model.history['categorical_accuracy'])\n",
    "plt.plot(trained_model.history['val_categorical_accuracy'])\n",
    "plt.title('model accuracy')\n",
    "plt.ylabel('accuracy')\n",
    "plt.xlabel('epoch')\n",
    "plt.legend(['train', 'test'], loc='upper left')\n",
    "plt.show()"
   ]
  },
  {
   "cell_type": "markdown",
   "metadata": {},
   "source": [
    "#### Model 8 : Transfer Learning + mobilenet + dropout + GRU Layer"
   ]
  },
  {
   "cell_type": "code",
   "execution_count": 24,
   "metadata": {},
   "outputs": [],
   "source": [
    "from keras.applications import  mobilenet"
   ]
  },
  {
   "cell_type": "code",
   "execution_count": 27,
   "metadata": {},
   "outputs": [
    {
     "name": "stderr",
     "output_type": "stream",
     "text": [
      "/mnt/disks/user/anaconda3/lib/python3.6/site-packages/keras_applications/mobilenet.py:206: UserWarning: MobileNet shape is undefined. Weights for input shape (224, 224) will be loaded.\n",
      "  warnings.warn('MobileNet shape is undefined.'\n"
     ]
    }
   ],
   "source": [
    "num_featuremaps = [16,32,64,128]\n",
    "num_denselayers = [64,32,5]\n",
    "num_classes = 5\n",
    "frames = 15\n",
    "dropout = 0.25\n",
    "\n",
    "\n",
    "# Input\n",
    "input_shape=(frames,120,120,3)\n",
    "\n",
    "# Define model\n",
    "mobile_model = mobilenet.MobileNet(weights='imagenet', include_top=False)\n",
    "\n",
    "model = Sequential()\n",
    "model.add(TimeDistributed(mobile_model,input_shape=input_shape))\n",
    "\n",
    "model.add(TimeDistributed(BatchNormalization()))\n",
    "model.add(TimeDistributed(MaxPooling2D((2, 2))))\n",
    "model.add(TimeDistributed(Flatten()))\n",
    "\n",
    "model.add(GRU(64, return_sequences=False))\n",
    "model.add(Dropout(dropout))\n",
    "\n",
    "model.add(Dense(num_denselayers[1],activation='relu'))\n",
    "model.add(Dropout(dropout))\n",
    "\n",
    "# using Softmax as last layer\n",
    "model.add(Dense(num_classes, activation='softmax')) "
   ]
  },
  {
   "cell_type": "code",
   "execution_count": 28,
   "metadata": {},
   "outputs": [
    {
     "name": "stdout",
     "output_type": "stream",
     "text": [
      "_________________________________________________________________\n",
      "Layer (type)                 Output Shape              Param #   \n",
      "=================================================================\n",
      "time_distributed_13 (TimeDis (None, 15, 3, 3, 1024)    3228864   \n",
      "_________________________________________________________________\n",
      "time_distributed_14 (TimeDis (None, 15, 3, 3, 1024)    4096      \n",
      "_________________________________________________________________\n",
      "time_distributed_15 (TimeDis (None, 15, 1, 1, 1024)    0         \n",
      "_________________________________________________________________\n",
      "time_distributed_16 (TimeDis (None, 15, 1024)          0         \n",
      "_________________________________________________________________\n",
      "gru_4 (GRU)                  (None, 64)                209088    \n",
      "_________________________________________________________________\n",
      "dropout_7 (Dropout)          (None, 64)                0         \n",
      "_________________________________________________________________\n",
      "dense_6 (Dense)              (None, 32)                2080      \n",
      "_________________________________________________________________\n",
      "dropout_8 (Dropout)          (None, 32)                0         \n",
      "_________________________________________________________________\n",
      "dense_7 (Dense)              (None, 5)                 165       \n",
      "=================================================================\n",
      "Total params: 3,444,293\n",
      "Trainable params: 3,420,357\n",
      "Non-trainable params: 23,936\n",
      "_________________________________________________________________\n",
      "None\n"
     ]
    }
   ],
   "source": [
    "optimiser = \"Adam\" #write your optimizer\n",
    "model.compile(optimizer=optimiser, loss='categorical_crossentropy', metrics=['categorical_accuracy'])\n",
    "\n",
    "# Model Summary\n",
    "print (model.summary())"
   ]
  },
  {
   "cell_type": "code",
   "execution_count": 29,
   "metadata": {},
   "outputs": [],
   "source": [
    "train_generator = generator(train_path, train_doc, batch_size)\n",
    "val_generator = generator(val_path, val_doc, batch_size)"
   ]
  },
  {
   "cell_type": "code",
   "execution_count": 30,
   "metadata": {},
   "outputs": [],
   "source": [
    "model_name = 'model_init' + '_' + str(curr_dt_time).replace(' ','').replace(':','_') + '/'\n",
    "    \n",
    "if not os.path.exists(model_name):\n",
    "    os.mkdir(model_name)\n",
    "        \n",
    "filepath = model_name + 'model-{epoch:05d}-{loss:.5f}-{categorical_accuracy:.5f}-{val_loss:.5f}-{val_categorical_accuracy:.5f}.h5'\n",
    "\n",
    "checkpoint = ModelCheckpoint(filepath, monitor='val_loss', verbose=1, save_best_only=False, save_weights_only=False, mode='auto', period=1)\n",
    "\n",
    "LR = ReduceLROnPlateau(monitor='val_loss', factor=0.01, patience=5, cooldown=4, verbose=1,mode='auto',min_delta=0.0001)  # write the REducelronplateau code here\n",
    "callbacks_list = [checkpoint, LR]"
   ]
  },
  {
   "cell_type": "code",
   "execution_count": 31,
   "metadata": {},
   "outputs": [],
   "source": [
    "if (num_train_sequences%batch_size) == 0:\n",
    "    steps_per_epoch = int(num_train_sequences/batch_size)\n",
    "else:\n",
    "    steps_per_epoch = (num_train_sequences//batch_size) + 1\n",
    "\n",
    "if (num_val_sequences%batch_size) == 0:\n",
    "    validation_steps = int(num_val_sequences/batch_size)\n",
    "else:\n",
    "    validation_steps = (num_val_sequences//batch_size) + 1"
   ]
  },
  {
   "cell_type": "code",
   "execution_count": 32,
   "metadata": {},
   "outputs": [
    {
     "name": "stdout",
     "output_type": "stream",
     "text": [
      "Source path =  ../val ; batch size = 15\n",
      "Source path =  ../train ; batch size = 15\n",
      "Epoch 1/10\n"
     ]
    },
    {
     "name": "stderr",
     "output_type": "stream",
     "text": [
      "/mnt/disks/user/anaconda3/lib/python3.6/site-packages/ipykernel_launcher.py:18: DeprecationWarning: `imread` is deprecated!\n",
      "`imread` is deprecated in SciPy 1.0.0, and will be removed in 1.2.0.\n",
      "Use ``imageio.imread`` instead.\n",
      "/mnt/disks/user/anaconda3/lib/python3.6/site-packages/skimage/transform/_warps.py:110: UserWarning: Anti-aliasing will be enabled by default in skimage 0.15 to avoid aliasing artifacts when down-sampling images.\n",
      "  warn(\"Anti-aliasing will be enabled by default in skimage 0.15 to \"\n",
      "/mnt/disks/user/anaconda3/lib/python3.6/site-packages/ipykernel_launcher.py:44: DeprecationWarning: `imread` is deprecated!\n",
      "`imread` is deprecated in SciPy 1.0.0, and will be removed in 1.2.0.\n",
      "Use ``imageio.imread`` instead.\n"
     ]
    },
    {
     "name": "stdout",
     "output_type": "stream",
     "text": [
      "45/45 [==============================] - 78s 2s/step - loss: 1.3668 - categorical_accuracy: 0.4281 - val_loss: 1.2739 - val_categorical_accuracy: 0.6667\n",
      "\n",
      "Epoch 00001: saving model to model_init_2020-11-0912_44_25.363423/model-00001-1.36677-0.42815-1.27389-0.66667.h5\n",
      "Epoch 2/10\n",
      "45/45 [==============================] - 62s 1s/step - loss: 0.7609 - categorical_accuracy: 0.7378 - val_loss: 1.3754 - val_categorical_accuracy: 0.7524\n",
      "\n",
      "Epoch 00002: saving model to model_init_2020-11-0912_44_25.363423/model-00002-0.76087-0.73778-1.37537-0.75238.h5\n",
      "Epoch 3/10\n",
      "45/45 [==============================] - 70s 2s/step - loss: 0.5036 - categorical_accuracy: 0.8400 - val_loss: 1.5797 - val_categorical_accuracy: 0.6476\n",
      "\n",
      "Epoch 00003: saving model to model_init_2020-11-0912_44_25.363423/model-00003-0.50361-0.84000-1.57967-0.64762.h5\n",
      "Epoch 4/10\n",
      "45/45 [==============================] - 67s 1s/step - loss: 0.3923 - categorical_accuracy: 0.8993 - val_loss: 1.8150 - val_categorical_accuracy: 0.6952\n",
      "\n",
      "Epoch 00004: saving model to model_init_2020-11-0912_44_25.363423/model-00004-0.39230-0.89926-1.81496-0.69524.h5\n",
      "Epoch 5/10\n",
      "45/45 [==============================] - 68s 2s/step - loss: 0.3197 - categorical_accuracy: 0.9067 - val_loss: 1.8265 - val_categorical_accuracy: 0.7048\n",
      "\n",
      "Epoch 00005: saving model to model_init_2020-11-0912_44_25.363423/model-00005-0.31974-0.90667-1.82653-0.70476.h5\n",
      "Epoch 6/10\n",
      "45/45 [==============================] - 70s 2s/step - loss: 0.3225 - categorical_accuracy: 0.9200 - val_loss: 1.2087 - val_categorical_accuracy: 0.7714\n",
      "\n",
      "Epoch 00006: saving model to model_init_2020-11-0912_44_25.363423/model-00006-0.32247-0.92000-1.20870-0.77143.h5\n",
      "Epoch 7/10\n",
      "45/45 [==============================] - 68s 2s/step - loss: 0.2195 - categorical_accuracy: 0.9393 - val_loss: 1.9593 - val_categorical_accuracy: 0.7048\n",
      "\n",
      "Epoch 00007: saving model to model_init_2020-11-0912_44_25.363423/model-00007-0.21949-0.93926-1.95930-0.70476.h5\n",
      "Epoch 8/10\n",
      "45/45 [==============================] - 68s 2s/step - loss: 0.2086 - categorical_accuracy: 0.9393 - val_loss: 1.7510 - val_categorical_accuracy: 0.7333\n",
      "\n",
      "Epoch 00008: saving model to model_init_2020-11-0912_44_25.363423/model-00008-0.20862-0.93926-1.75097-0.73333.h5\n",
      "Epoch 9/10\n",
      "45/45 [==============================] - 70s 2s/step - loss: 0.2528 - categorical_accuracy: 0.9363 - val_loss: 1.6008 - val_categorical_accuracy: 0.7524\n",
      "\n",
      "Epoch 00009: saving model to model_init_2020-11-0912_44_25.363423/model-00009-0.25279-0.93630-1.60079-0.75238.h5\n",
      "Epoch 10/10\n",
      "45/45 [==============================] - 71s 2s/step - loss: 0.1989 - categorical_accuracy: 0.9452 - val_loss: 1.3162 - val_categorical_accuracy: 0.7810\n",
      "\n",
      "Epoch 00010: saving model to model_init_2020-11-0912_44_25.363423/model-00010-0.19892-0.94519-1.31623-0.78095.h5\n"
     ]
    }
   ],
   "source": [
    "trained_model= model.fit_generator(train_generator, steps_per_epoch=steps_per_epoch, epochs=num_epochs, verbose=1, \n",
    "                    callbacks=callbacks_list, validation_data=val_generator, \n",
    "                    validation_steps=validation_steps, class_weight=None, workers=1, initial_epoch=0)"
   ]
  },
  {
   "cell_type": "code",
   "execution_count": 33,
   "metadata": {},
   "outputs": [
    {
     "data": {
      "image/png": "[encoded data removed]",
      "text/plain": [
       "<Figure size 432x288 with 1 Axes>"
      ]
     },
     "metadata": {},
     "output_type": "display_data"
    }
   ],
   "source": [
    "# summarize for model  accuracy\n",
    "plt.plot(trained_model.history['categorical_accuracy'])\n",
    "plt.plot(trained_model.history['val_categorical_accuracy'])\n",
    "plt.title('model accuracy')\n",
    "plt.ylabel('accuracy')\n",
    "plt.xlabel('epoch')\n",
    "plt.legend(['train', 'test'], loc='upper left')\n",
    "plt.show()"
   ]
  },
  {
   "cell_type": "markdown",
   "metadata": {},
   "source": [
    "#### Model 9 : Transfer Learning + mobilenet + dropout + GRU Layer + Increased epoch"
   ]
  },
  {
   "cell_type": "code",
   "execution_count": 34,
   "metadata": {},
   "outputs": [
    {
     "name": "stderr",
     "output_type": "stream",
     "text": [
      "/mnt/disks/user/anaconda3/lib/python3.6/site-packages/keras_applications/mobilenet.py:206: UserWarning: MobileNet shape is undefined. Weights for input shape (224, 224) will be loaded.\n",
      "  warnings.warn('MobileNet shape is undefined.'\n"
     ]
    }
   ],
   "source": [
    "num_featuremaps = [16,32,64,128]\n",
    "num_denselayers = [64,32,5]\n",
    "num_classes = 5\n",
    "frames = 15\n",
    "dropout = 0.25\n",
    "\n",
    "\n",
    "# Input\n",
    "input_shape=(frames,120,120,3)\n",
    "\n",
    "# Define model\n",
    "mobile_model = mobilenet.MobileNet(weights='imagenet', include_top=False)\n",
    "\n",
    "model = Sequential()\n",
    "model.add(TimeDistributed(mobile_model,input_shape=input_shape))\n",
    "\n",
    "model.add(TimeDistributed(BatchNormalization()))\n",
    "model.add(TimeDistributed(MaxPooling2D((2, 2))))\n",
    "model.add(TimeDistributed(Flatten()))\n",
    "\n",
    "model.add(GRU(64, return_sequences=False))\n",
    "model.add(Dropout(dropout))\n",
    "\n",
    "model.add(Dense(num_denselayers[1],activation='relu'))\n",
    "model.add(Dropout(dropout))\n",
    "\n",
    "# using Softmax as last layer\n",
    "model.add(Dense(num_classes, activation='softmax')) "
   ]
  },
  {
   "cell_type": "code",
   "execution_count": 35,
   "metadata": {},
   "outputs": [
    {
     "name": "stdout",
     "output_type": "stream",
     "text": [
      "_________________________________________________________________\n",
      "Layer (type)                 Output Shape              Param #   \n",
      "=================================================================\n",
      "time_distributed_17 (TimeDis (None, 15, 3, 3, 1024)    3228864   \n",
      "_________________________________________________________________\n",
      "time_distributed_18 (TimeDis (None, 15, 3, 3, 1024)    4096      \n",
      "_________________________________________________________________\n",
      "time_distributed_19 (TimeDis (None, 15, 1, 1, 1024)    0         \n",
      "_________________________________________________________________\n",
      "time_distributed_20 (TimeDis (None, 15, 1024)          0         \n",
      "_________________________________________________________________\n",
      "gru_5 (GRU)                  (None, 64)                209088    \n",
      "_________________________________________________________________\n",
      "dropout_9 (Dropout)          (None, 64)                0         \n",
      "_________________________________________________________________\n",
      "dense_8 (Dense)              (None, 32)                2080      \n",
      "_________________________________________________________________\n",
      "dropout_10 (Dropout)         (None, 32)                0         \n",
      "_________________________________________________________________\n",
      "dense_9 (Dense)              (None, 5)                 165       \n",
      "=================================================================\n",
      "Total params: 3,444,293\n",
      "Trainable params: 3,420,357\n",
      "Non-trainable params: 23,936\n",
      "_________________________________________________________________\n",
      "None\n"
     ]
    }
   ],
   "source": [
    "optimiser = \"Adam\" #write your optimizer\n",
    "model.compile(optimizer=optimiser, loss='categorical_crossentropy', metrics=['categorical_accuracy'])\n",
    "\n",
    "# Model Summary\n",
    "print (model.summary())"
   ]
  },
  {
   "cell_type": "code",
   "execution_count": 36,
   "metadata": {},
   "outputs": [],
   "source": [
    "train_generator = generator(train_path, train_doc, batch_size)\n",
    "val_generator = generator(val_path, val_doc, batch_size)"
   ]
  },
  {
   "cell_type": "code",
   "execution_count": 37,
   "metadata": {},
   "outputs": [],
   "source": [
    "model_name = 'model_init' + '_' + str(curr_dt_time).replace(' ','').replace(':','_') + '/'\n",
    "    \n",
    "if not os.path.exists(model_name):\n",
    "    os.mkdir(model_name)\n",
    "        \n",
    "filepath = model_name + 'model-{epoch:05d}-{loss:.5f}-{categorical_accuracy:.5f}-{val_loss:.5f}-{val_categorical_accuracy:.5f}.h5'\n",
    "\n",
    "checkpoint = ModelCheckpoint(filepath, monitor='val_loss', verbose=1, save_best_only=False, save_weights_only=False, mode='auto', period=1)\n",
    "\n",
    "LR = ReduceLROnPlateau(monitor='val_loss', factor=0.01, patience=5, cooldown=4, verbose=1,mode='auto',min_delta=0.0001)  # write the REducelronplateau code here\n",
    "callbacks_list = [checkpoint, LR]"
   ]
  },
  {
   "cell_type": "code",
   "execution_count": 38,
   "metadata": {},
   "outputs": [],
   "source": [
    "if (num_train_sequences%batch_size) == 0:\n",
    "    steps_per_epoch = int(num_train_sequences/batch_size)\n",
    "else:\n",
    "    steps_per_epoch = (num_train_sequences//batch_size) + 1\n",
    "\n",
    "if (num_val_sequences%batch_size) == 0:\n",
    "    validation_steps = int(num_val_sequences/batch_size)\n",
    "else:\n",
    "    validation_steps = (num_val_sequences//batch_size) + 1"
   ]
  },
  {
   "cell_type": "code",
   "execution_count": 39,
   "metadata": {},
   "outputs": [],
   "source": [
    "num_epochs =15"
   ]
  },
  {
   "cell_type": "code",
   "execution_count": 40,
   "metadata": {},
   "outputs": [
    {
     "name": "stdout",
     "output_type": "stream",
     "text": [
      "Source path =  ../val ; batch size = 15\n",
      "Source path =  ../train ; batch size = 15\n",
      "Epoch 1/15\n"
     ]
    },
    {
     "name": "stderr",
     "output_type": "stream",
     "text": [
      "/mnt/disks/user/anaconda3/lib/python3.6/site-packages/ipykernel_launcher.py:18: DeprecationWarning: `imread` is deprecated!\n",
      "`imread` is deprecated in SciPy 1.0.0, and will be removed in 1.2.0.\n",
      "Use ``imageio.imread`` instead.\n",
      "/mnt/disks/user/anaconda3/lib/python3.6/site-packages/skimage/transform/_warps.py:110: UserWarning: Anti-aliasing will be enabled by default in skimage 0.15 to avoid aliasing artifacts when down-sampling images.\n",
      "  warn(\"Anti-aliasing will be enabled by default in skimage 0.15 to \"\n",
      "/mnt/disks/user/anaconda3/lib/python3.6/site-packages/ipykernel_launcher.py:44: DeprecationWarning: `imread` is deprecated!\n",
      "`imread` is deprecated in SciPy 1.0.0, and will be removed in 1.2.0.\n",
      "Use ``imageio.imread`` instead.\n"
     ]
    },
    {
     "name": "stdout",
     "output_type": "stream",
     "text": [
      "45/45 [==============================] - 76s 2s/step - loss: 1.3758 - categorical_accuracy: 0.4341 - val_loss: 1.5995 - val_categorical_accuracy: 0.5333\n",
      "\n",
      "Epoch 00001: saving model to model_init_2020-11-0912_44_25.363423/model-00001-1.37577-0.43407-1.59950-0.53333.h5\n",
      "Epoch 2/15\n",
      "45/45 [==============================] - 57s 1s/step - loss: 0.7638 - categorical_accuracy: 0.7481 - val_loss: 1.4597 - val_categorical_accuracy: 0.6571\n",
      "\n",
      "Epoch 00002: saving model to model_init_2020-11-0912_44_25.363423/model-00002-0.76379-0.74815-1.45969-0.65714.h5\n",
      "Epoch 3/15\n",
      "45/45 [==============================] - 65s 1s/step - loss: 0.5664 - categorical_accuracy: 0.8178 - val_loss: 1.7611 - val_categorical_accuracy: 0.5905\n",
      "\n",
      "Epoch 00003: saving model to model_init_2020-11-0912_44_25.363423/model-00003-0.56637-0.81778-1.76113-0.59048.h5\n",
      "Epoch 4/15\n",
      "45/45 [==============================] - 65s 1s/step - loss: 0.3838 - categorical_accuracy: 0.8830 - val_loss: 1.3377 - val_categorical_accuracy: 0.7619\n",
      "\n",
      "Epoch 00004: saving model to model_init_2020-11-0912_44_25.363423/model-00004-0.38380-0.88296-1.33768-0.76190.h5\n",
      "Epoch 5/15\n",
      "45/45 [==============================] - 69s 2s/step - loss: 0.3520 - categorical_accuracy: 0.8830 - val_loss: 1.6770 - val_categorical_accuracy: 0.7429\n",
      "\n",
      "Epoch 00005: saving model to model_init_2020-11-0912_44_25.363423/model-00005-0.35199-0.88296-1.67702-0.74286.h5\n",
      "Epoch 6/15\n",
      "45/45 [==============================] - 66s 1s/step - loss: 0.3392 - categorical_accuracy: 0.9230 - val_loss: 2.0100 - val_categorical_accuracy: 0.5333\n",
      "\n",
      "Epoch 00006: saving model to model_init_2020-11-0912_44_25.363423/model-00006-0.33919-0.92296-2.00997-0.53333.h5\n",
      "Epoch 7/15\n",
      "45/45 [==============================] - 66s 1s/step - loss: 0.2612 - categorical_accuracy: 0.9304 - val_loss: 2.0821 - val_categorical_accuracy: 0.6667\n",
      "\n",
      "Epoch 00007: saving model to model_init_2020-11-0912_44_25.363423/model-00007-0.26116-0.93037-2.08213-0.66667.h5\n",
      "Epoch 8/15\n",
      "45/45 [==============================] - 66s 1s/step - loss: 0.2660 - categorical_accuracy: 0.9319 - val_loss: 1.9888 - val_categorical_accuracy: 0.6476\n",
      "\n",
      "Epoch 00008: saving model to model_init_2020-11-0912_44_25.363423/model-00008-0.26596-0.93185-1.98885-0.64762.h5\n",
      "Epoch 9/15\n",
      "45/45 [==============================] - 68s 2s/step - loss: 0.2601 - categorical_accuracy: 0.9319 - val_loss: 2.3231 - val_categorical_accuracy: 0.6571\n",
      "\n",
      "Epoch 00009: saving model to model_init_2020-11-0912_44_25.363423/model-00009-0.26006-0.93185-2.32308-0.65714.h5\n",
      "\n",
      "Epoch 00009: ReduceLROnPlateau reducing learning rate to 1.0000000474974514e-05.\n",
      "Epoch 10/15\n",
      "45/45 [==============================] - 67s 1s/step - loss: 0.2574 - categorical_accuracy: 0.9348 - val_loss: 1.6919 - val_categorical_accuracy: 0.7619\n",
      "\n",
      "Epoch 00010: saving model to model_init_2020-11-0912_44_25.363423/model-00010-0.25739-0.93481-1.69190-0.76190.h5\n",
      "Epoch 11/15\n",
      "45/45 [==============================] - 65s 1s/step - loss: 0.2226 - categorical_accuracy: 0.9467 - val_loss: 1.9396 - val_categorical_accuracy: 0.7810\n",
      "\n",
      "Epoch 00011: saving model to model_init_2020-11-0912_44_25.363423/model-00011-0.22263-0.94667-1.93965-0.78095.h5\n",
      "Epoch 12/15\n",
      "45/45 [==============================] - 65s 1s/step - loss: 0.1865 - categorical_accuracy: 0.9556 - val_loss: 1.9289 - val_categorical_accuracy: 0.7810\n",
      "\n",
      "Epoch 00012: saving model to model_init_2020-11-0912_44_25.363423/model-00012-0.18646-0.95556-1.92886-0.78095.h5\n",
      "Epoch 13/15\n",
      "45/45 [==============================] - 66s 1s/step - loss: 0.1843 - categorical_accuracy: 0.9526 - val_loss: 1.6611 - val_categorical_accuracy: 0.7238\n",
      "\n",
      "Epoch 00013: saving model to model_init_2020-11-0912_44_25.363423/model-00013-0.18425-0.95259-1.66113-0.72381.h5\n",
      "Epoch 14/15\n",
      "45/45 [==============================] - 69s 2s/step - loss: 0.1630 - categorical_accuracy: 0.9644 - val_loss: 2.0944 - val_categorical_accuracy: 0.7333\n",
      "\n",
      "Epoch 00014: saving model to model_init_2020-11-0912_44_25.363423/model-00014-0.16296-0.96444-2.09437-0.73333.h5\n",
      "Epoch 15/15\n",
      "45/45 [==============================] - 66s 1s/step - loss: 0.1484 - categorical_accuracy: 0.9644 - val_loss: 1.5766 - val_categorical_accuracy: 0.7810\n",
      "\n",
      "Epoch 00015: saving model to model_init_2020-11-0912_44_25.363423/model-00015-0.14843-0.96444-1.57662-0.78095.h5\n"
     ]
    }
   ],
   "source": [
    "trained_model= model.fit_generator(train_generator, steps_per_epoch=steps_per_epoch, epochs=num_epochs, verbose=1, \n",
    "                    callbacks=callbacks_list, validation_data=val_generator, \n",
    "                    validation_steps=validation_steps, class_weight=None, workers=1, initial_epoch=0)"
   ]
  },
  {
   "cell_type": "code",
   "execution_count": 41,
   "metadata": {},
   "outputs": [
    {
     "data": {
      "image/png": "[encoded data removed]",
      "text/plain": [
       "<Figure size 432x288 with 1 Axes>"
      ]
     },
     "metadata": {},
     "output_type": "display_data"
    }
   ],
   "source": [
    "# summarize for model  accuracy\n",
    "plt.plot(trained_model.history['categorical_accuracy'])\n",
    "plt.plot(trained_model.history['val_categorical_accuracy'])\n",
    "plt.title('model accuracy')\n",
    "plt.ylabel('accuracy')\n",
    "plt.xlabel('epoch')\n",
    "plt.legend(['train', 'test'], loc='upper left')\n",
    "plt.show()"
   ]
  },
  {
   "cell_type": "markdown",
   "metadata": {},
   "source": [
    "#### Model 10 : Transfer Learning + mobilenet + dropout + GRU Layer + Increased epoch + Increased Batch Size"
   ]
  },
  {
   "cell_type": "code",
   "execution_count": 42,
   "metadata": {},
   "outputs": [
    {
     "name": "stderr",
     "output_type": "stream",
     "text": [
      "/mnt/disks/user/anaconda3/lib/python3.6/site-packages/keras_applications/mobilenet.py:206: UserWarning: MobileNet shape is undefined. Weights for input shape (224, 224) will be loaded.\n",
      "  warnings.warn('MobileNet shape is undefined.'\n"
     ]
    }
   ],
   "source": [
    "num_featuremaps = [16,32,64,128]\n",
    "num_denselayers = [64,32,5]\n",
    "num_classes = 5\n",
    "frames = 15\n",
    "dropout = 0.25\n",
    "\n",
    "# increasing batch Size\n",
    "batch_size = 20\n",
    "\n",
    "# Input\n",
    "input_shape=(frames,120,120,3)\n",
    "\n",
    "# Define model\n",
    "mobile_model = mobilenet.MobileNet(weights='imagenet', include_top=False)\n",
    "\n",
    "model = Sequential()\n",
    "model.add(TimeDistributed(mobile_model,input_shape=input_shape))\n",
    "\n",
    "model.add(TimeDistributed(BatchNormalization()))\n",
    "model.add(TimeDistributed(MaxPooling2D((2, 2))))\n",
    "model.add(TimeDistributed(Flatten()))\n",
    "\n",
    "model.add(GRU(64, return_sequences=False))\n",
    "model.add(Dropout(dropout))\n",
    "\n",
    "model.add(Dense(num_denselayers[1],activation='relu'))\n",
    "model.add(Dropout(dropout))\n",
    "\n",
    "# using Softmax as last layer\n",
    "model.add(Dense(num_classes, activation='softmax')) "
   ]
  },
  {
   "cell_type": "code",
   "execution_count": 43,
   "metadata": {},
   "outputs": [
    {
     "name": "stdout",
     "output_type": "stream",
     "text": [
      "_________________________________________________________________\n",
      "Layer (type)                 Output Shape              Param #   \n",
      "=================================================================\n",
      "time_distributed_21 (TimeDis (None, 15, 3, 3, 1024)    3228864   \n",
      "_________________________________________________________________\n",
      "time_distributed_22 (TimeDis (None, 15, 3, 3, 1024)    4096      \n",
      "_________________________________________________________________\n",
      "time_distributed_23 (TimeDis (None, 15, 1, 1, 1024)    0         \n",
      "_________________________________________________________________\n",
      "time_distributed_24 (TimeDis (None, 15, 1024)          0         \n",
      "_________________________________________________________________\n",
      "gru_6 (GRU)                  (None, 64)                209088    \n",
      "_________________________________________________________________\n",
      "dropout_11 (Dropout)         (None, 64)                0         \n",
      "_________________________________________________________________\n",
      "dense_10 (Dense)             (None, 32)                2080      \n",
      "_________________________________________________________________\n",
      "dropout_12 (Dropout)         (None, 32)                0         \n",
      "_________________________________________________________________\n",
      "dense_11 (Dense)             (None, 5)                 165       \n",
      "=================================================================\n",
      "Total params: 3,444,293\n",
      "Trainable params: 3,420,357\n",
      "Non-trainable params: 23,936\n",
      "_________________________________________________________________\n",
      "None\n"
     ]
    }
   ],
   "source": [
    "optimiser = \"Adam\" #write your optimizer\n",
    "model.compile(optimizer=optimiser, loss='categorical_crossentropy', metrics=['categorical_accuracy'])\n",
    "\n",
    "# Model Summary\n",
    "print (model.summary())"
   ]
  },
  {
   "cell_type": "code",
   "execution_count": 44,
   "metadata": {},
   "outputs": [],
   "source": [
    "train_generator = generator(train_path, train_doc, batch_size)\n",
    "val_generator = generator(val_path, val_doc, batch_size)"
   ]
  },
  {
   "cell_type": "code",
   "execution_count": 45,
   "metadata": {},
   "outputs": [],
   "source": [
    "model_name = 'model_init' + '_' + str(curr_dt_time).replace(' ','').replace(':','_') + '/'\n",
    "    \n",
    "if not os.path.exists(model_name):\n",
    "    os.mkdir(model_name)\n",
    "        \n",
    "filepath = model_name + 'model-{epoch:05d}-{loss:.5f}-{categorical_accuracy:.5f}-{val_loss:.5f}-{val_categorical_accuracy:.5f}.h5'\n",
    "\n",
    "checkpoint = ModelCheckpoint(filepath, monitor='val_loss', verbose=1, save_best_only=False, save_weights_only=False, mode='auto', period=1)\n",
    "\n",
    "LR = ReduceLROnPlateau(monitor='val_loss', factor=0.01, patience=5, cooldown=4, verbose=1,mode='auto',min_delta=0.0001)  # write the REducelronplateau code here\n",
    "callbacks_list = [checkpoint, LR]"
   ]
  },
  {
   "cell_type": "code",
   "execution_count": 46,
   "metadata": {},
   "outputs": [],
   "source": [
    "if (num_train_sequences%batch_size) == 0:\n",
    "    steps_per_epoch = int(num_train_sequences/batch_size)\n",
    "else:\n",
    "    steps_per_epoch = (num_train_sequences//batch_size) + 1\n",
    "\n",
    "if (num_val_sequences%batch_size) == 0:\n",
    "    validation_steps = int(num_val_sequences/batch_size)\n",
    "else:\n",
    "    validation_steps = (num_val_sequences//batch_size) + 1"
   ]
  },
  {
   "cell_type": "code",
   "execution_count": 47,
   "metadata": {},
   "outputs": [],
   "source": [
    "num_epochs =15"
   ]
  },
  {
   "cell_type": "code",
   "execution_count": 48,
   "metadata": {},
   "outputs": [
    {
     "name": "stdout",
     "output_type": "stream",
     "text": [
      "Source path = Source path =  ../train ; batch size = 20\n",
      "Epoch 1/15\n",
      " ../val ; batch size = 20\n"
     ]
    },
    {
     "name": "stderr",
     "output_type": "stream",
     "text": [
      "/mnt/disks/user/anaconda3/lib/python3.6/site-packages/ipykernel_launcher.py:18: DeprecationWarning: `imread` is deprecated!\n",
      "`imread` is deprecated in SciPy 1.0.0, and will be removed in 1.2.0.\n",
      "Use ``imageio.imread`` instead.\n",
      "/mnt/disks/user/anaconda3/lib/python3.6/site-packages/skimage/transform/_warps.py:110: UserWarning: Anti-aliasing will be enabled by default in skimage 0.15 to avoid aliasing artifacts when down-sampling images.\n",
      "  warn(\"Anti-aliasing will be enabled by default in skimage 0.15 to \"\n"
     ]
    },
    {
     "name": "stdout",
     "output_type": "stream",
     "text": [
      "32/34 [===========================>..] - ETA: 4s - loss: 1.4323 - categorical_accuracy: 0.3969"
     ]
    },
    {
     "name": "stderr",
     "output_type": "stream",
     "text": [
      "/mnt/disks/user/anaconda3/lib/python3.6/site-packages/ipykernel_launcher.py:44: DeprecationWarning: `imread` is deprecated!\n",
      "`imread` is deprecated in SciPy 1.0.0, and will be removed in 1.2.0.\n",
      "Use ``imageio.imread`` instead.\n"
     ]
    },
    {
     "name": "stdout",
     "output_type": "stream",
     "text": [
      "34/34 [==============================] - 81s 2s/step - loss: 1.4086 - categorical_accuracy: 0.4103 - val_loss: 0.8658 - val_categorical_accuracy: 0.7500\n",
      "\n",
      "Epoch 00001: saving model to model_init_2020-11-0912_44_25.363423/model-00001-1.40859-0.41029-0.86575-0.75000.h5\n",
      "Epoch 2/15\n",
      "34/34 [==============================] - 55s 2s/step - loss: 0.7364 - categorical_accuracy: 0.7206 - val_loss: 0.4949 - val_categorical_accuracy: 0.8100\n",
      "\n",
      "Epoch 00002: saving model to model_init_2020-11-0912_44_25.363423/model-00002-0.73637-0.72059-0.49487-0.81000.h5\n",
      "Epoch 3/15\n",
      "34/34 [==============================] - 68s 2s/step - loss: 0.4034 - categorical_accuracy: 0.8618 - val_loss: 0.3859 - val_categorical_accuracy: 0.8200\n",
      "\n",
      "Epoch 00003: saving model to model_init_2020-11-0912_44_25.363423/model-00003-0.40344-0.86176-0.38590-0.82000.h5\n",
      "Epoch 4/15\n",
      "34/34 [==============================] - 68s 2s/step - loss: 0.2918 - categorical_accuracy: 0.9250 - val_loss: 0.5609 - val_categorical_accuracy: 0.7900\n",
      "\n",
      "Epoch 00004: saving model to model_init_2020-11-0912_44_25.363423/model-00004-0.29179-0.92500-0.56090-0.79000.h5\n",
      "Epoch 5/15\n",
      "34/34 [==============================] - 69s 2s/step - loss: 0.2507 - categorical_accuracy: 0.9426 - val_loss: 0.4157 - val_categorical_accuracy: 0.8700\n",
      "\n",
      "Epoch 00005: saving model to model_init_2020-11-0912_44_25.363423/model-00005-0.25067-0.94265-0.41568-0.87000.h5\n",
      "Epoch 6/15\n",
      "34/34 [==============================] - 69s 2s/step - loss: 0.3028 - categorical_accuracy: 0.9147 - val_loss: 0.8193 - val_categorical_accuracy: 0.7300\n",
      "\n",
      "Epoch 00006: saving model to model_init_2020-11-0912_44_25.363423/model-00006-0.30281-0.91471-0.81933-0.73000.h5\n",
      "Epoch 7/15\n",
      "34/34 [==============================] - 65s 2s/step - loss: 0.2083 - categorical_accuracy: 0.9397 - val_loss: 0.5222 - val_categorical_accuracy: 0.8100\n",
      "\n",
      "Epoch 00007: saving model to model_init_2020-11-0912_44_25.363423/model-00007-0.20825-0.93971-0.52216-0.81000.h5\n",
      "Epoch 8/15\n",
      "34/34 [==============================] - 66s 2s/step - loss: 0.1958 - categorical_accuracy: 0.9574 - val_loss: 0.6154 - val_categorical_accuracy: 0.7600\n",
      "\n",
      "Epoch 00008: saving model to model_init_2020-11-0912_44_25.363423/model-00008-0.19584-0.95735-0.61535-0.76000.h5\n",
      "\n",
      "Epoch 00008: ReduceLROnPlateau reducing learning rate to 1.0000000474974514e-05.\n",
      "Epoch 9/15\n",
      "34/34 [==============================] - 63s 2s/step - loss: 0.1659 - categorical_accuracy: 0.9574 - val_loss: 0.3400 - val_categorical_accuracy: 0.8800\n",
      "\n",
      "Epoch 00009: saving model to model_init_2020-11-0912_44_25.363423/model-00009-0.16594-0.95735-0.33995-0.88000.h5\n",
      "Epoch 10/15\n",
      "34/34 [==============================] - 66s 2s/step - loss: 0.1639 - categorical_accuracy: 0.9676 - val_loss: 0.2351 - val_categorical_accuracy: 0.9200\n",
      "\n",
      "Epoch 00010: saving model to model_init_2020-11-0912_44_25.363423/model-00010-0.16385-0.96765-0.23507-0.92000.h5\n",
      "Epoch 11/15\n",
      "34/34 [==============================] - 70s 2s/step - loss: 0.1325 - categorical_accuracy: 0.9676 - val_loss: 0.2055 - val_categorical_accuracy: 0.9300\n",
      "\n",
      "Epoch 00011: saving model to model_init_2020-11-0912_44_25.363423/model-00011-0.13246-0.96765-0.20550-0.93000.h5\n",
      "Epoch 12/15\n",
      "34/34 [==============================] - 69s 2s/step - loss: 0.1743 - categorical_accuracy: 0.9603 - val_loss: 0.1915 - val_categorical_accuracy: 0.9400\n",
      "\n",
      "Epoch 00012: saving model to model_init_2020-11-0912_44_25.363423/model-00012-0.17431-0.96029-0.19148-0.94000.h5\n",
      "Epoch 13/15\n",
      "34/34 [==============================] - 71s 2s/step - loss: 0.1402 - categorical_accuracy: 0.9750 - val_loss: 0.1808 - val_categorical_accuracy: 0.9400\n",
      "\n",
      "Epoch 00013: saving model to model_init_2020-11-0912_44_25.363423/model-00013-0.14017-0.97500-0.18083-0.94000.h5\n",
      "Epoch 14/15\n",
      "34/34 [==============================] - 69s 2s/step - loss: 0.1509 - categorical_accuracy: 0.9632 - val_loss: 0.1726 - val_categorical_accuracy: 0.9400\n",
      "\n",
      "Epoch 00014: saving model to model_init_2020-11-0912_44_25.363423/model-00014-0.15087-0.96324-0.17257-0.94000.h5\n",
      "Epoch 15/15\n",
      "34/34 [==============================] - 67s 2s/step - loss: 0.1299 - categorical_accuracy: 0.9750 - val_loss: 0.1702 - val_categorical_accuracy: 0.9500\n",
      "\n",
      "Epoch 00015: saving model to model_init_2020-11-0912_44_25.363423/model-00015-0.12987-0.97500-0.17024-0.95000.h5\n"
     ]
    }
   ],
   "source": [
    "trained_model= model.fit_generator(train_generator, steps_per_epoch=steps_per_epoch, epochs=num_epochs, verbose=1, \n",
    "                    callbacks=callbacks_list, validation_data=val_generator, \n",
    "                    validation_steps=validation_steps, class_weight=None, workers=1, initial_epoch=0)"
   ]
  },
  {
   "cell_type": "code",
   "execution_count": 49,
   "metadata": {},
   "outputs": [
    {
     "data": {
      "image/png": "[encoded data removed]",
      "text/plain": [
       "<Figure size 432x288 with 1 Axes>"
      ]
     },
     "metadata": {},
     "output_type": "display_data"
    }
   ],
   "source": [
    "# summarize for model  accuracy\n",
    "plt.plot(trained_model.history['categorical_accuracy'])\n",
    "plt.plot(trained_model.history['val_categorical_accuracy'])\n",
    "plt.title('model accuracy')\n",
    "plt.ylabel('accuracy')\n",
    "plt.xlabel('epoch')\n",
    "plt.legend(['train', 'test'], loc='upper left')\n",
    "plt.show()"
   ]
  },
  {
   "cell_type": "markdown",
   "metadata": {},
   "source": [
    "#### Model 11 : Transfer Learning + mobilenet + dropout + GRU Layer + Increased Batch Size(More)"
   ]
  },
  {
   "cell_type": "code",
   "execution_count": 57,
   "metadata": {},
   "outputs": [
    {
     "name": "stderr",
     "output_type": "stream",
     "text": [
      "/mnt/disks/user/anaconda3/lib/python3.6/site-packages/keras_applications/mobilenet.py:206: UserWarning: MobileNet shape is undefined. Weights for input shape (224, 224) will be loaded.\n",
      "  warnings.warn('MobileNet shape is undefined.'\n"
     ]
    }
   ],
   "source": [
    "num_featuremaps = [16,32,64,128]\n",
    "num_denselayers = [64,32,5]\n",
    "num_classes = 5\n",
    "frames = 15\n",
    "dropout = 0.25\n",
    "\n",
    "# increasing batch Size\n",
    "batch_size = 25\n",
    "\n",
    "# Input\n",
    "input_shape=(frames,120,120,3)\n",
    "\n",
    "# Define model\n",
    "mobile_model = mobilenet.MobileNet(weights='imagenet', include_top=False)\n",
    "\n",
    "model = Sequential()\n",
    "model.add(TimeDistributed(mobile_model,input_shape=input_shape))\n",
    "\n",
    "model.add(TimeDistributed(BatchNormalization()))\n",
    "model.add(TimeDistributed(MaxPooling2D((2, 2))))\n",
    "model.add(TimeDistributed(Flatten()))\n",
    "\n",
    "model.add(GRU(64, return_sequences=False))\n",
    "model.add(Dropout(dropout))\n",
    "\n",
    "model.add(Dense(num_denselayers[1],activation='relu'))\n",
    "model.add(Dropout(dropout))\n",
    "\n",
    "# using Softmax as last layer\n",
    "model.add(Dense(num_classes, activation='softmax')) "
   ]
  },
  {
   "cell_type": "code",
   "execution_count": 58,
   "metadata": {},
   "outputs": [
    {
     "name": "stdout",
     "output_type": "stream",
     "text": [
      "_________________________________________________________________\n",
      "Layer (type)                 Output Shape              Param #   \n",
      "=================================================================\n",
      "time_distributed_29 (TimeDis (None, 15, 3, 3, 1024)    3228864   \n",
      "_________________________________________________________________\n",
      "time_distributed_30 (TimeDis (None, 15, 3, 3, 1024)    4096      \n",
      "_________________________________________________________________\n",
      "time_distributed_31 (TimeDis (None, 15, 1, 1, 1024)    0         \n",
      "_________________________________________________________________\n",
      "time_distributed_32 (TimeDis (None, 15, 1024)          0         \n",
      "_________________________________________________________________\n",
      "gru_8 (GRU)                  (None, 64)                209088    \n",
      "_________________________________________________________________\n",
      "dropout_15 (Dropout)         (None, 64)                0         \n",
      "_________________________________________________________________\n",
      "dense_14 (Dense)             (None, 32)                2080      \n",
      "_________________________________________________________________\n",
      "dropout_16 (Dropout)         (None, 32)                0         \n",
      "_________________________________________________________________\n",
      "dense_15 (Dense)             (None, 5)                 165       \n",
      "=================================================================\n",
      "Total params: 3,444,293\n",
      "Trainable params: 3,420,357\n",
      "Non-trainable params: 23,936\n",
      "_________________________________________________________________\n",
      "None\n"
     ]
    }
   ],
   "source": [
    "optimiser = \"Adam\" #write your optimizer\n",
    "model.compile(optimizer=optimiser, loss='categorical_crossentropy', metrics=['categorical_accuracy'])\n",
    "\n",
    "# Model Summary\n",
    "print (model.summary())"
   ]
  },
  {
   "cell_type": "code",
   "execution_count": 59,
   "metadata": {},
   "outputs": [],
   "source": [
    "train_generator = generator(train_path, train_doc, batch_size)\n",
    "val_generator = generator(val_path, val_doc, batch_size)"
   ]
  },
  {
   "cell_type": "code",
   "execution_count": 60,
   "metadata": {},
   "outputs": [],
   "source": [
    "model_name = 'model_init' + '_' + str(curr_dt_time).replace(' ','').replace(':','_') + '/'\n",
    "    \n",
    "if not os.path.exists(model_name):\n",
    "    os.mkdir(model_name)\n",
    "        \n",
    "filepath = model_name + 'model-{epoch:05d}-{loss:.5f}-{categorical_accuracy:.5f}-{val_loss:.5f}-{val_categorical_accuracy:.5f}.h5'\n",
    "\n",
    "checkpoint = ModelCheckpoint(filepath, monitor='val_loss', verbose=1, save_best_only=False, save_weights_only=False, mode='auto', period=1)\n",
    "\n",
    "LR = ReduceLROnPlateau(monitor='val_loss', factor=0.01, patience=5, cooldown=4, verbose=1,mode='auto',min_delta=0.0001)  # write the REducelronplateau code here\n",
    "callbacks_list = [checkpoint, LR]"
   ]
  },
  {
   "cell_type": "code",
   "execution_count": 61,
   "metadata": {},
   "outputs": [],
   "source": [
    "if (num_train_sequences%batch_size) == 0:\n",
    "    steps_per_epoch = int(num_train_sequences/batch_size)\n",
    "else:\n",
    "    steps_per_epoch = (num_train_sequences//batch_size) + 1\n",
    "\n",
    "if (num_val_sequences%batch_size) == 0:\n",
    "    validation_steps = int(num_val_sequences/batch_size)\n",
    "else:\n",
    "    validation_steps = (num_val_sequences//batch_size) + 1"
   ]
  },
  {
   "cell_type": "code",
   "execution_count": 62,
   "metadata": {},
   "outputs": [],
   "source": [
    "num_epochs =10"
   ]
  },
  {
   "cell_type": "code",
   "execution_count": 64,
   "metadata": {},
   "outputs": [
    {
     "name": "stdout",
     "output_type": "stream",
     "text": [
      "Epoch 1/10\n"
     ]
    },
    {
     "name": "stderr",
     "output_type": "stream",
     "text": [
      "/mnt/disks/user/anaconda3/lib/python3.6/site-packages/ipykernel_launcher.py:18: DeprecationWarning: `imread` is deprecated!\n",
      "`imread` is deprecated in SciPy 1.0.0, and will be removed in 1.2.0.\n",
      "Use ``imageio.imread`` instead.\n",
      "/mnt/disks/user/anaconda3/lib/python3.6/site-packages/skimage/transform/_warps.py:110: UserWarning: Anti-aliasing will be enabled by default in skimage 0.15 to avoid aliasing artifacts when down-sampling images.\n",
      "  warn(\"Anti-aliasing will be enabled by default in skimage 0.15 to \"\n"
     ]
    },
    {
     "name": "stdout",
     "output_type": "stream",
     "text": [
      "24/27 [=========================>....] - ETA: 8s - loss: 0.1141 - categorical_accuracy: 0.9717 "
     ]
    },
    {
     "name": "stderr",
     "output_type": "stream",
     "text": [
      "/mnt/disks/user/anaconda3/lib/python3.6/site-packages/ipykernel_launcher.py:44: DeprecationWarning: `imread` is deprecated!\n",
      "`imread` is deprecated in SciPy 1.0.0, and will be removed in 1.2.0.\n",
      "Use ``imageio.imread`` instead.\n"
     ]
    },
    {
     "name": "stdout",
     "output_type": "stream",
     "text": [
      "27/27 [==============================] - 74s 3s/step - loss: 0.2453 - categorical_accuracy: 0.9585 - val_loss: 0.4750 - val_categorical_accuracy: 0.8200\n",
      "\n",
      "Epoch 00001: saving model to model_init_2020-11-0912_44_25.363423/model-00001-0.24535-0.95852-0.47499-0.82000.h5\n",
      "Epoch 2/10\n",
      "27/27 [==============================] - 69s 3s/step - loss: 0.3335 - categorical_accuracy: 0.9511 - val_loss: 0.4604 - val_categorical_accuracy: 0.8600\n",
      "\n",
      "Epoch 00002: saving model to model_init_2020-11-0912_44_25.363423/model-00002-0.33354-0.95111-0.46040-0.86000.h5\n",
      "Epoch 3/10\n",
      "27/27 [==============================] - 69s 3s/step - loss: 0.3279 - categorical_accuracy: 0.9319 - val_loss: 0.2505 - val_categorical_accuracy: 0.9200\n",
      "\n",
      "Epoch 00003: saving model to model_init_2020-11-0912_44_25.363423/model-00003-0.32792-0.93185-0.25051-0.92000.h5\n",
      "Epoch 4/10\n",
      "27/27 [==============================] - 69s 3s/step - loss: 0.3118 - categorical_accuracy: 0.9407 - val_loss: 0.4972 - val_categorical_accuracy: 0.8700\n",
      "\n",
      "Epoch 00004: saving model to model_init_2020-11-0912_44_25.363423/model-00004-0.31179-0.94074-0.49716-0.87000.h5\n",
      "Epoch 5/10\n",
      "27/27 [==============================] - 70s 3s/step - loss: 0.2689 - categorical_accuracy: 0.9585 - val_loss: 0.3342 - val_categorical_accuracy: 0.9000\n",
      "\n",
      "Epoch 00005: saving model to model_init_2020-11-0912_44_25.363423/model-00005-0.26890-0.95852-0.33422-0.90000.h5\n",
      "Epoch 6/10\n",
      "27/27 [==============================] - 68s 3s/step - loss: 0.3232 - categorical_accuracy: 0.9437 - val_loss: 0.2876 - val_categorical_accuracy: 0.8800\n",
      "\n",
      "Epoch 00006: saving model to model_init_2020-11-0912_44_25.363423/model-00006-0.32319-0.94370-0.28761-0.88000.h5\n",
      "Epoch 7/10\n",
      "27/27 [==============================] - 68s 3s/step - loss: 0.3409 - categorical_accuracy: 0.9467 - val_loss: 0.2433 - val_categorical_accuracy: 0.9200\n",
      "\n",
      "Epoch 00007: saving model to model_init_2020-11-0912_44_25.363423/model-00007-0.34090-0.94667-0.24328-0.92000.h5\n",
      "Epoch 8/10\n",
      "27/27 [==============================] - 68s 3s/step - loss: 0.3057 - categorical_accuracy: 0.9600 - val_loss: 0.2257 - val_categorical_accuracy: 0.9500\n",
      "\n",
      "Epoch 00008: saving model to model_init_2020-11-0912_44_25.363423/model-00008-0.30573-0.96000-0.22570-0.95000.h5\n",
      "Epoch 9/10\n",
      "27/27 [==============================] - 66s 2s/step - loss: 0.2489 - categorical_accuracy: 0.9704 - val_loss: 0.8072 - val_categorical_accuracy: 0.7800\n",
      "\n",
      "Epoch 00009: saving model to model_init_2020-11-0912_44_25.363423/model-00009-0.24887-0.97037-0.80724-0.78000.h5\n",
      "Epoch 10/10\n",
      "27/27 [==============================] - 68s 3s/step - loss: 0.3195 - categorical_accuracy: 0.9585 - val_loss: 0.8424 - val_categorical_accuracy: 0.8100\n",
      "\n",
      "Epoch 00010: saving model to model_init_2020-11-0912_44_25.363423/model-00010-0.31951-0.95852-0.84238-0.81000.h5\n"
     ]
    }
   ],
   "source": [
    "trained_model= model.fit_generator(train_generator, steps_per_epoch=steps_per_epoch, epochs=num_epochs, verbose=1, \n",
    "                    callbacks=callbacks_list, validation_data=val_generator, \n",
    "                    validation_steps=validation_steps, class_weight=None, workers=1, initial_epoch=0)"
   ]
  },
  {
   "cell_type": "code",
   "execution_count": 66,
   "metadata": {},
   "outputs": [
    {
     "data": {
      "image/png": "[encoded data removed]",
      "text/plain": [
       "<Figure size 432x288 with 1 Axes>"
      ]
     },
     "metadata": {},
     "output_type": "display_data"
    }
   ],
   "source": [
    "# summarize for model  accuracy\n",
    "plt.plot(trained_model.history['categorical_accuracy'])\n",
    "plt.plot(trained_model.history['val_categorical_accuracy'])\n",
    "plt.title('model accuracy')\n",
    "plt.ylabel('accuracy')\n",
    "plt.xlabel('epoch')\n",
    "plt.legend(['train', 'test'], loc='upper left')\n",
    "plt.show()"
   ]
  },
  {
   "cell_type": "code",
   "execution_count": null,
   "metadata": {},
   "outputs": [],
   "source": []
  },
  {
   "cell_type": "code",
   "execution_count": null,
   "metadata": {},
   "outputs": [],
   "source": []
  }
 ],
 "metadata": {
  "kernelspec": {
   "display_name": "Python 3",
   "language": "python",
   "name": "python3"
  },
  "language_info": {
   "codemirror_mode": {
    "name": "ipython",
    "version": 3
   },
   "file_extension": ".py",
   "mimetype": "text/x-python",
   "name": "python",
   "nbconvert_exporter": "python",
   "pygments_lexer": "ipython3",
   "version": "3.6.8"
  }
 },
 "nbformat": 4,
 "nbformat_minor": 2
}
